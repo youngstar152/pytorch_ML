{
  "nbformat": 4,
  "nbformat_minor": 0,
  "metadata": {
    "colab": {
      "provenance": [],
      "collapsed_sections": []
    },
    "kernelspec": {
      "name": "python3",
      "display_name": "Python 3"
    },
    "language_info": {
      "name": "python"
    }
  },
  "cells": [
    {
      "cell_type": "code",
      "execution_count": 1,
      "metadata": {
        "colab": {
          "base_uri": "https://localhost:8080/"
        },
        "id": "XBwLZ6wH1YUB",
        "outputId": "ad8fa17b-f545-4216-e8bd-195480f17642"
      },
      "outputs": [
        {
          "output_type": "stream",
          "name": "stdout",
          "text": [
            "Looking in indexes: https://pypi.org/simple, https://us-python.pkg.dev/colab-wheels/public/simple/\n",
            "Requirement already satisfied: janome in /usr/local/lib/python3.7/dist-packages (0.4.2)\n"
          ]
        }
      ],
      "source": [
        "!pip install janome\n",
        "from janome.tokenizer import Tokenizer"
      ]
    },
    {
      "cell_type": "code",
      "source": [
        "# Google Driveをマウント\n",
        "from google.colab import drive \n",
        "drive.mount('/content/drive')\n",
        "# 日本語 Wikipedia エンティティベクトルをダウンロード\n",
        "!wget -P \"/content/drive/My Drive/download\" http://www.cl.ecei.tohoku.ac.jp/~m-suzuki/jawiki_vector/data/20170201.tar.bz2"
      ],
      "metadata": {
        "id": "ZHlUg0eMDAlB",
        "outputId": "18290350-7617-41a6-fcb4-c6fbfb551581",
        "colab": {
          "base_uri": "https://localhost:8080/"
        }
      },
      "execution_count": 8,
      "outputs": [
        {
          "output_type": "stream",
          "name": "stdout",
          "text": [
            "Drive already mounted at /content/drive; to attempt to forcibly remount, call drive.mount(\"/content/drive\", force_remount=True).\n",
            "--2022-09-23 06:35:12--  http://www.cl.ecei.tohoku.ac.jp/~m-suzuki/jawiki_vector/data/20170201.tar.bz2\n",
            "Resolving www.cl.ecei.tohoku.ac.jp (www.cl.ecei.tohoku.ac.jp)... 130.34.192.83\n",
            "Connecting to www.cl.ecei.tohoku.ac.jp (www.cl.ecei.tohoku.ac.jp)|130.34.192.83|:80... connected.\n",
            "HTTP request sent, awaiting response... 200 OK\n",
            "Length: 1373795477 (1.3G) [application/x-bzip2]\n",
            "Saving to: ‘/content/drive/My Drive/download/20170201.tar.bz2.1’\n",
            "\n",
            "20170201.tar.bz2.1  100%[===================>]   1.28G  11.2MB/s    in 1m 58s  \n",
            "\n",
            "2022-09-23 06:37:11 (11.1 MB/s) - ‘/content/drive/My Drive/download/20170201.tar.bz2.1’ saved [1373795477/1373795477]\n",
            "\n",
            "tar (child): /content/drive/My: Cannot open: No such file or directory\n",
            "tar (child): Error is not recoverable: exiting now\n",
            "tar: Child returned status 2\n",
            "tar: Error is not recoverable: exiting now\n"
          ]
        }
      ]
    },
    {
      "cell_type": "code",
      "source": [
        "!tar -jxvf \"/content/drive/My Drive/download/20170201.tar.bz2\""
      ],
      "metadata": {
        "id": "RTdQUd_kE0Of",
        "outputId": "14c9ea00-249f-4b61-fe35-45b4c9eb653a",
        "colab": {
          "base_uri": "https://localhost:8080/"
        }
      },
      "execution_count": 11,
      "outputs": [
        {
          "output_type": "stream",
          "name": "stdout",
          "text": [
            "entity_vector/\n",
            "entity_vector/entity_vector.model.txt\n",
            "entity_vector/entity_vector.model.bin\n"
          ]
        }
      ]
    },
    {
      "cell_type": "code",
      "source": [
        "tkz=Tokenizer()\n",
        "s=\"私は公園を歩く。\"\n",
        "ws=[w for w in  tkz.tokenize(s,wakati=True)]\n",
        "ws"
      ],
      "metadata": {
        "colab": {
          "base_uri": "https://localhost:8080/"
        },
        "id": "BlxibD3b2EV5",
        "outputId": "910eb9bd-b039-49f5-f632-3c844cf7c39f"
      },
      "execution_count": 19,
      "outputs": [
        {
          "output_type": "execute_result",
          "data": {
            "text/plain": [
              "['私', 'は', '公園', 'を', '歩く', '。']"
            ]
          },
          "metadata": {},
          "execution_count": 19
        }
      ]
    },
    {
      "cell_type": "code",
      "source": [
        "#200次元の分散表現\n",
        "!pip install gensim\n",
        "import gensim\n",
        "from gensim.models.keyedvectors import KeyedVectors"
      ],
      "metadata": {
        "id": "VddpUI221baW",
        "colab": {
          "base_uri": "https://localhost:8080/"
        },
        "outputId": "9aa25f58-15b2-49ae-b1e0-6709b65df93a"
      },
      "execution_count": 13,
      "outputs": [
        {
          "output_type": "stream",
          "name": "stdout",
          "text": [
            "Looking in indexes: https://pypi.org/simple, https://us-python.pkg.dev/colab-wheels/public/simple/\n",
            "Requirement already satisfied: gensim in /usr/local/lib/python3.7/dist-packages (3.6.0)\n",
            "Requirement already satisfied: numpy>=1.11.3 in /usr/local/lib/python3.7/dist-packages (from gensim) (1.21.6)\n",
            "Requirement already satisfied: smart-open>=1.2.1 in /usr/local/lib/python3.7/dist-packages (from gensim) (5.2.1)\n",
            "Requirement already satisfied: six>=1.5.0 in /usr/local/lib/python3.7/dist-packages (from gensim) (1.15.0)\n",
            "Requirement already satisfied: scipy>=0.18.1 in /usr/local/lib/python3.7/dist-packages (from gensim) (1.7.3)\n"
          ]
        }
      ]
    },
    {
      "cell_type": "code",
      "source": [
        "from gensim.models.keyedvectors import KeyedVectors\n",
        "model_dir = '/content/entity_vector/entity_vector.model.bin'\n",
        "model = KeyedVectors.load_word2vec_format(model_dir, binary=True)"
      ],
      "metadata": {
        "id": "pDnW_FljB-o3"
      },
      "execution_count": 16,
      "outputs": []
    },
    {
      "cell_type": "code",
      "source": [
        "import numpy as np\n",
        "import torch\n",
        "xn=torch.tensor([model[w] for w in ws])"
      ],
      "metadata": {
        "id": "HkykSy381u0r"
      },
      "execution_count": 20,
      "outputs": []
    },
    {
      "cell_type": "code",
      "source": [
        "xn.shape"
      ],
      "metadata": {
        "id": "8L7Gg9OSGlv_",
        "outputId": "46b588ad-3c91-4e73-decd-3087ddab7ab0",
        "colab": {
          "base_uri": "https://localhost:8080/"
        }
      },
      "execution_count": 21,
      "outputs": [
        {
          "output_type": "execute_result",
          "data": {
            "text/plain": [
              "torch.Size([6, 200])"
            ]
          },
          "metadata": {},
          "execution_count": 21
        }
      ]
    },
    {
      "cell_type": "code",
      "source": [
        "xn=xn.unsqueeze(0)\n",
        "xn.shape"
      ],
      "metadata": {
        "id": "Qz5-UcIAGofr",
        "outputId": "9bdbb7b0-52a8-4b44-d9f4-c8920dc5238b",
        "colab": {
          "base_uri": "https://localhost:8080/"
        }
      },
      "execution_count": 22,
      "outputs": [
        {
          "output_type": "execute_result",
          "data": {
            "text/plain": [
              "torch.Size([1, 6, 200])"
            ]
          },
          "metadata": {},
          "execution_count": 22
        }
      ]
    },
    {
      "cell_type": "code",
      "source": [
        "import torch.nn as nn\n",
        "import torch.optim as optim\n",
        "import torch.nn.functional as F\n",
        "from torch.utils.data import Dataset, DataLoader\n",
        "from torch.nn.utils.rnn import pad_sequence\n",
        "\n",
        "lstm = nn.LSTM(200,200,batch_first=True)\n",
        "h0=torch.randn(1,1,200)\n",
        "c0=torch.randn(1,1,200)\n",
        "yn,(hn,cn)=lstm(xn,(h0,c0))"
      ],
      "metadata": {
        "id": "AgCUZKvdG66L"
      },
      "execution_count": 23,
      "outputs": []
    },
    {
      "cell_type": "code",
      "source": [
        "yn.shape"
      ],
      "metadata": {
        "id": "XXN1aAP-HXyF",
        "outputId": "a2979934-ef37-407d-a4dc-2a3bfbf9176f",
        "colab": {
          "base_uri": "https://localhost:8080/"
        }
      },
      "execution_count": 24,
      "outputs": [
        {
          "output_type": "execute_result",
          "data": {
            "text/plain": [
              "torch.Size([1, 6, 200])"
            ]
          },
          "metadata": {},
          "execution_count": 24
        }
      ]
    },
    {
      "cell_type": "code",
      "source": [
        "hn.shape"
      ],
      "metadata": {
        "id": "oDPlkN5OHZls",
        "outputId": "dd8779c1-a1f4-4022-f60c-63de58c7d5c4",
        "colab": {
          "base_uri": "https://localhost:8080/"
        }
      },
      "execution_count": 25,
      "outputs": [
        {
          "output_type": "execute_result",
          "data": {
            "text/plain": [
              "torch.Size([1, 1, 200])"
            ]
          },
          "metadata": {},
          "execution_count": 25
        }
      ]
    },
    {
      "cell_type": "code",
      "source": [
        "cn.shape"
      ],
      "metadata": {
        "id": "7j6vuRqqHbad",
        "outputId": "5484033d-ee15-4ee8-b9d1-1dff29ef5378",
        "colab": {
          "base_uri": "https://localhost:8080/"
        }
      },
      "execution_count": 26,
      "outputs": [
        {
          "output_type": "execute_result",
          "data": {
            "text/plain": [
              "torch.Size([1, 1, 200])"
            ]
          },
          "metadata": {},
          "execution_count": 26
        }
      ]
    },
    {
      "cell_type": "code",
      "source": [
        "labels={'名詞':0,'助詞':1,'形容詞':2,'助動詞':3,'補助記号':4,'動詞':5,'代名詞':6,'接尾辞':7,'副詞':8,'形状詞':9,'記号':10,'連体詞':11,'接頭辞':12,'接続詞':13,'感動詞':14,'空白':15}"
      ],
      "metadata": {
        "id": "p-jEbdnvHcMv"
      },
      "execution_count": 28,
      "outputs": []
    },
    {
      "cell_type": "code",
      "source": [
        "import pickle\n",
        "with open('dic.pkl','br') as f:\n",
        "  dic=pickle.load(f)\n",
        "dic['犬']"
      ],
      "metadata": {
        "id": "Zm--rj7ZIQtV",
        "outputId": "f2b11f91-7f3c-42b6-fa7e-2f3df3c76adb",
        "colab": {
          "base_uri": "https://localhost:8080/"
        }
      },
      "execution_count": 29,
      "outputs": [
        {
          "output_type": "execute_result",
          "data": {
            "text/plain": [
              "4373"
            ]
          },
          "metadata": {},
          "execution_count": 29
        }
      ]
    },
    {
      "cell_type": "code",
      "source": [
        "with open('xtrain.pkl','br') as f:\n",
        "  xtrain=pickle.load(f)\n",
        "with open('ytrain.pkl','br') as f:\n",
        "  ytrain=pickle.load(f)\n",
        "xtrain[6]\n",
        "ytrain[6]"
      ],
      "metadata": {
        "id": "juUBggB6Jzxc",
        "outputId": "68ab9293-8db8-49cb-ac6c-62eb25622bcd",
        "colab": {
          "base_uri": "https://localhost:8080/"
        }
      },
      "execution_count": 38,
      "outputs": [
        {
          "output_type": "execute_result",
          "data": {
            "text/plain": [
              "[9, 0, 1, 8, 5, 7, 3, 4]"
            ]
          },
          "metadata": {},
          "execution_count": 38
        }
      ]
    },
    {
      "cell_type": "code",
      "source": [
        "class MyLSTM(nn.Module):\n",
        "    def __init__(self, vocsize, posn, hdim):\n",
        "        super(MyLSTM, self).__init__()\n",
        "        self.embd = nn.Embedding(vocsize, hdim,padding_idx=0)\n",
        "        self.lstm = nn.LSTM(input_size=hdim, hidden_size=hdim,batch_first=True,\n",
        "                            num_layers=2, bidirectional=True)\n",
        "        self.ln   = nn.Linear(hdim*2, posn)\n",
        "    def forward(self, x):\n",
        "        x = self.embd(x)\n",
        "        lo, (hn, cn) = self.lstm(x)\n",
        "        out = self.ln(lo)\n",
        "        return out"
      ],
      "metadata": {
        "id": "4uwhyPhAKewX"
      },
      "execution_count": 67,
      "outputs": []
    },
    {
      "cell_type": "code",
      "source": [
        "class MyDataset(Dataset):\n",
        "    def __init__(self, xdata, ydata):\n",
        "        self.data = xdata\n",
        "        self.label = ydata\n",
        "    def __len__(self):\n",
        "        return len(self.label)\n",
        "    def __getitem__(self, idx):\n",
        "        x = self.data[idx]\n",
        "        y = self.label[idx]\n",
        "        return x, y\n",
        "\n",
        "def my_collate_fn(batch):\n",
        "    xdata, ydata = list(zip(*batch))\n",
        "    xs = list(xdata)\n",
        "    ys = list(ydata)\n",
        "    return xs, ys"
      ],
      "metadata": {
        "id": "hXugzNs3S62j"
      },
      "execution_count": 62,
      "outputs": []
    },
    {
      "cell_type": "code",
      "source": [
        "batch_size = 200\n",
        "dataset = MyDataset(xdata,ydata)\n",
        "dataloader = DataLoader(dataset, batch_size=batch_size, shuffle=True, collate_fn=my_collate_fn)"
      ],
      "metadata": {
        "id": "jVt6HalYTKQQ"
      },
      "execution_count": 68,
      "outputs": []
    },
    {
      "cell_type": "code",
      "source": [
        "\n",
        "device = torch.device(\"cuda:0\" if torch.cuda.is_available() else \"cpu\")\n",
        "net = MyLSTM(len(dic)+1, len(labels), 100).to(device)\n",
        "optimizer = optim.SGD(net.parameters(),lr=0.01)\n",
        "criterion = nn.CrossEntropyLoss(ignore_index=-1)"
      ],
      "metadata": {
        "id": "-hEZK3rOLE19"
      },
      "execution_count": 69,
      "outputs": []
    },
    {
      "cell_type": "code",
      "source": [
        "net.train()\n",
        "for ep in range(10):\n",
        "    loss10B, i = 0.0, 0\n",
        "    for xs, ys in dataloader:\n",
        "        xs1, ys1 = [], []\n",
        "        for k in range(len(xs)):\n",
        "            tid = xs[k]\n",
        "            xs1.append(torch.LongTensor(tid))\n",
        "            tid = ys[k]\n",
        "            ys1.append(torch.LongTensor(tid))\n",
        "        xs1 = pad_sequence(xs1, batch_first=True).to(device)\n",
        "        ys1 = pad_sequence(ys1, batch_first=True, padding_value=-1.0)\n",
        "        output = net(xs1)\n",
        "        ys1 = ys1.type(torch.LongTensor).to(device)\n",
        "        loss = criterion(output[0],ys1[0])\n",
        "        for h in range(1,len(ys1)):\n",
        "            loss += criterion(output[h],ys1[h])\n",
        "        if (i % 10 == 0):\n",
        "            print(ep, i, loss10B)\n",
        "            loss10B = 0.0\n",
        "        else:\n",
        "            loss10B += loss.item()\n",
        "        i += 1\n",
        "        optimizer.zero_grad()\n",
        "        loss.backward()\n",
        "        optimizer.step()\n",
        "    outfile = \"lstm1-\" + str(ep) + \".model\"\n",
        "    torch.save(net.state_dict(),outfile)"
      ],
      "metadata": {
        "id": "w8ZusjlhLnA5",
        "outputId": "de7576bc-5d8b-47a0-ee87-37115863494c",
        "colab": {
          "base_uri": "https://localhost:8080/"
        }
      },
      "execution_count": 70,
      "outputs": [
        {
          "output_type": "stream",
          "name": "stdout",
          "text": [
            "0 0 0.0\n",
            "0 10 3700.554718017578\n",
            "0 20 3251.9515075683594\n",
            "0 30 2788.0751342773438\n",
            "0 40 2342.4857788085938\n",
            "0 50 1954.811996459961\n",
            "0 60 1739.6522827148438\n",
            "0 70 1554.6769561767578\n",
            "0 80 1429.9122314453125\n",
            "0 90 1389.7843475341797\n",
            "0 100 1260.2772521972656\n",
            "0 110 1221.961410522461\n",
            "0 120 1112.4026260375977\n",
            "0 130 1067.3943405151367\n",
            "0 140 1053.304557800293\n",
            "0 150 952.5415954589844\n",
            "0 160 919.250373840332\n",
            "0 170 883.4406967163086\n",
            "0 180 855.1600799560547\n",
            "0 190 790.3198165893555\n",
            "0 200 748.0932540893555\n",
            "0 210 710.0015029907227\n",
            "0 220 682.6602401733398\n",
            "0 230 692.6870880126953\n",
            "0 240 644.4410171508789\n",
            "1 0 0.0\n",
            "1 10 683.6591186523438\n",
            "1 20 546.0869064331055\n",
            "1 30 523.0795097351074\n",
            "1 40 558.7830390930176\n",
            "1 50 513.901912689209\n",
            "1 60 477.1277160644531\n",
            "1 70 501.50311279296875\n",
            "1 80 511.1082420349121\n",
            "1 90 448.84069061279297\n",
            "1 100 456.19865798950195\n",
            "1 110 417.3899459838867\n",
            "1 120 406.0206985473633\n",
            "1 130 428.4988021850586\n",
            "1 140 432.1682891845703\n",
            "1 150 391.97170639038086\n",
            "1 160 359.2012481689453\n",
            "1 170 376.26702880859375\n",
            "1 180 406.3694534301758\n",
            "1 190 363.64798736572266\n",
            "1 200 344.9767875671387\n",
            "1 210 373.6610870361328\n",
            "1 220 343.5794448852539\n",
            "1 230 339.4098815917969\n",
            "1 240 340.18965911865234\n",
            "2 0 0.0\n",
            "2 10 308.1713924407959\n",
            "2 20 301.00804710388184\n",
            "2 30 292.8830089569092\n",
            "2 40 297.291711807251\n",
            "2 50 304.2976989746094\n",
            "2 60 286.23082160949707\n",
            "2 70 298.05177116394043\n",
            "2 80 275.60350608825684\n",
            "2 90 266.623233795166\n",
            "2 100 266.60069274902344\n",
            "2 110 281.1250801086426\n",
            "2 120 251.05229377746582\n",
            "2 130 260.34742164611816\n",
            "2 140 240.8294734954834\n",
            "2 150 252.80399894714355\n",
            "2 160 259.92993354797363\n",
            "2 170 249.31387901306152\n",
            "2 180 253.8603343963623\n",
            "2 190 252.71306991577148\n",
            "2 200 256.23752784729004\n",
            "2 210 256.17504692077637\n",
            "2 220 238.7801628112793\n",
            "2 230 223.32906913757324\n",
            "2 240 229.2443027496338\n",
            "3 0 0.0\n",
            "3 10 219.1737060546875\n",
            "3 20 211.3535041809082\n",
            "3 30 206.93112564086914\n",
            "3 40 207.54449081420898\n",
            "3 50 229.00583457946777\n",
            "3 60 230.79312705993652\n",
            "3 70 200.7262363433838\n",
            "3 80 204.70626831054688\n",
            "3 90 207.4125919342041\n",
            "3 100 189.80451011657715\n",
            "3 110 192.5793685913086\n",
            "3 120 182.223539352417\n",
            "3 130 201.92151832580566\n",
            "3 140 201.22142219543457\n",
            "3 150 199.64142227172852\n",
            "3 160 193.91083908081055\n",
            "3 170 181.6648712158203\n",
            "3 180 192.15398406982422\n",
            "3 190 181.1065902709961\n",
            "3 200 175.17323875427246\n",
            "3 210 178.7970371246338\n",
            "3 220 182.20809364318848\n",
            "3 230 171.07774543762207\n",
            "3 240 178.56057739257812\n",
            "4 0 0.0\n",
            "4 10 158.7433319091797\n",
            "4 20 166.54675579071045\n",
            "4 30 173.3120174407959\n",
            "4 40 171.6806812286377\n",
            "4 50 162.01251411437988\n",
            "4 60 161.35535717010498\n",
            "4 70 167.3386116027832\n",
            "4 80 148.51050090789795\n",
            "4 90 156.90028762817383\n",
            "4 100 156.9954071044922\n",
            "4 110 149.8415288925171\n",
            "4 120 163.53497409820557\n",
            "4 130 160.13480949401855\n",
            "4 140 154.184250831604\n",
            "4 150 159.74840354919434\n",
            "4 160 151.84873962402344\n",
            "4 170 153.2748670578003\n",
            "4 180 150.75692749023438\n",
            "4 190 154.03802490234375\n",
            "4 200 156.94373416900635\n",
            "4 210 146.00809001922607\n",
            "4 220 150.9535322189331\n",
            "4 230 143.23062896728516\n",
            "4 240 145.77505207061768\n",
            "5 0 0.0\n",
            "5 10 129.35207271575928\n",
            "5 20 130.04431915283203\n",
            "5 30 145.28191471099854\n",
            "5 40 136.01145839691162\n",
            "5 50 129.08325672149658\n",
            "5 60 125.29059886932373\n",
            "5 70 137.459490776062\n",
            "5 80 127.98408603668213\n",
            "5 90 136.43563652038574\n",
            "5 100 134.0345277786255\n",
            "5 110 133.568603515625\n",
            "5 120 133.64895629882812\n",
            "5 130 134.92086029052734\n",
            "5 140 125.58367443084717\n",
            "5 150 126.05385780334473\n",
            "5 160 134.11043071746826\n",
            "5 170 122.64418601989746\n",
            "5 180 117.80759048461914\n",
            "5 190 132.4115924835205\n",
            "5 200 129.56146144866943\n",
            "5 210 128.82765865325928\n",
            "5 220 125.1052656173706\n",
            "5 230 129.93848609924316\n",
            "5 240 131.58667373657227\n",
            "6 0 0.0\n",
            "6 10 112.36480140686035\n",
            "6 20 122.97390460968018\n",
            "6 30 115.07841682434082\n",
            "6 40 112.6909818649292\n",
            "6 50 121.1293478012085\n",
            "6 60 113.44169425964355\n",
            "6 70 112.63778018951416\n",
            "6 80 106.84270572662354\n",
            "6 90 109.00531196594238\n",
            "6 100 117.27008819580078\n",
            "6 110 112.02993297576904\n",
            "6 120 104.97429943084717\n",
            "6 130 109.79614639282227\n",
            "6 140 102.69448947906494\n",
            "6 150 107.82334804534912\n",
            "6 160 115.25111865997314\n",
            "6 170 110.69145965576172\n",
            "6 180 114.65732192993164\n",
            "6 190 111.85416507720947\n",
            "6 200 108.03946781158447\n",
            "6 210 116.73547649383545\n",
            "6 220 107.82650756835938\n",
            "6 230 111.12376976013184\n",
            "6 240 102.68180274963379\n",
            "7 0 0.0\n",
            "7 10 90.71812534332275\n",
            "7 20 93.28366947174072\n",
            "7 30 92.83008003234863\n",
            "7 40 92.03930473327637\n",
            "7 50 93.8864049911499\n",
            "7 60 100.60355758666992\n",
            "7 70 88.03191995620728\n",
            "7 80 103.42625904083252\n",
            "7 90 99.67234325408936\n",
            "7 100 101.19984340667725\n",
            "7 110 97.86725425720215\n",
            "7 120 107.161452293396\n",
            "7 130 100.63121700286865\n",
            "7 140 100.27097415924072\n",
            "7 150 90.00018692016602\n",
            "7 160 93.16707515716553\n",
            "7 170 93.9044361114502\n",
            "7 180 84.21552038192749\n",
            "7 190 102.74297332763672\n",
            "7 200 92.74403762817383\n",
            "7 210 105.30947208404541\n",
            "7 220 98.89756774902344\n",
            "7 230 99.65926933288574\n",
            "7 240 92.24326419830322\n",
            "8 0 0.0\n",
            "8 10 82.76479864120483\n",
            "8 20 84.33056259155273\n",
            "8 30 86.51304388046265\n",
            "8 40 80.75764989852905\n",
            "8 50 83.89984178543091\n",
            "8 60 86.83089542388916\n",
            "8 70 85.9294900894165\n",
            "8 80 86.67986965179443\n",
            "8 90 81.76521015167236\n",
            "8 100 87.14717197418213\n",
            "8 110 86.91065788269043\n",
            "8 120 88.13282108306885\n",
            "8 130 85.92938137054443\n",
            "8 140 85.86865377426147\n",
            "8 150 80.48253583908081\n",
            "8 160 89.38535022735596\n",
            "8 170 85.17588233947754\n",
            "8 180 87.44903182983398\n",
            "8 190 88.9058666229248\n",
            "8 200 95.63953924179077\n",
            "8 210 85.40818881988525\n",
            "8 220 83.13656711578369\n",
            "8 230 85.09242534637451\n",
            "8 240 89.29938888549805\n",
            "9 0 0.0\n",
            "9 10 75.96593523025513\n",
            "9 20 69.1771469116211\n",
            "9 30 78.18711423873901\n",
            "9 40 76.71771717071533\n",
            "9 50 74.26245450973511\n",
            "9 60 73.10292530059814\n",
            "9 70 76.10715818405151\n",
            "9 80 74.86055994033813\n",
            "9 90 73.60443115234375\n",
            "9 100 80.91551876068115\n",
            "9 110 70.47044324874878\n",
            "9 120 76.36424112319946\n",
            "9 130 73.70331764221191\n",
            "9 140 72.50058078765869\n",
            "9 150 77.97854328155518\n",
            "9 160 73.62903547286987\n",
            "9 170 73.61197566986084\n",
            "9 180 74.47095537185669\n",
            "9 190 79.19799709320068\n",
            "9 200 82.35755968093872\n",
            "9 210 76.00856256484985\n",
            "9 220 81.35164499282837\n",
            "9 230 83.38751888275146\n",
            "9 240 72.4262843132019\n"
          ]
        }
      ]
    },
    {
      "cell_type": "code",
      "source": [
        "net.load_state_dict(torch.load(\"/content/lstm0-1.model\"))"
      ],
      "metadata": {
        "id": "68qsXoZ2N7vU",
        "outputId": "e3e610e3-bfd7-487a-c19a-1dcd50f66f86",
        "colab": {
          "base_uri": "https://localhost:8080/"
        }
      },
      "execution_count": 52,
      "outputs": [
        {
          "output_type": "execute_result",
          "data": {
            "text/plain": [
              "<All keys matched successfully>"
            ]
          },
          "metadata": {},
          "execution_count": 52
        }
      ]
    },
    {
      "cell_type": "code",
      "source": [
        "real_data_num=0\n",
        "net.eval()\n",
        "with torch.no_grad():\n",
        "    ok = 0\n",
        "    for xs, ys in dataloader:\n",
        "        xs1, ys1 = [], []\n",
        "        for k in range(len(xs)):\n",
        "            real_data_num += len(xs[k])\n",
        "            tid = xs[k]\n",
        "            xs1.append(torch.LongTensor(tid))\n",
        "            tid = ys[k]\n",
        "            ys1.append(torch.LongTensor(tid))\n",
        "        xs1 = pad_sequence(xs1, batch_first=True).to(device)\n",
        "        ys1 = pad_sequence(ys1, batch_first=True, padding_value=-1.0).to(device)\n",
        "        output = net(xs1)\n",
        "        ans = torch.argmax(output,dim=2)\n",
        "        ok += torch.sum(ans == ys1).item()\n",
        "print(ok, real_data_num, ok/real_data_num)"
      ],
      "metadata": {
        "id": "tEGfhxDzRZNj",
        "outputId": "19257b06-dead-494a-ed52-a5338c8a5526",
        "colab": {
          "base_uri": "https://localhost:8080/"
        }
      },
      "execution_count": 59,
      "outputs": [
        {
          "output_type": "stream",
          "name": "stdout",
          "text": [
            "46300 1329489 0.034825410364433255\n"
          ]
        }
      ]
    },
    {
      "cell_type": "code",
      "source": [],
      "metadata": {
        "id": "oDEYwtsVTXlJ"
      },
      "execution_count": null,
      "outputs": []
    }
  ]
}