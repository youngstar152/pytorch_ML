{
  "nbformat": 4,
  "nbformat_minor": 0,
  "metadata": {
    "colab": {
      "provenance": [],
      "collapsed_sections": []
    },
    "kernelspec": {
      "name": "python3",
      "display_name": "Python 3"
    },
    "language_info": {
      "name": "python"
    },
    "accelerator": "GPU",
    "widgets": {
      "application/vnd.jupyter.widget-state+json": {
        "94be1dfe81044091803ca05563120e4e": {
          "model_module": "@jupyter-widgets/controls",
          "model_name": "HBoxModel",
          "model_module_version": "1.5.0",
          "state": {
            "_dom_classes": [],
            "_model_module": "@jupyter-widgets/controls",
            "_model_module_version": "1.5.0",
            "_model_name": "HBoxModel",
            "_view_count": null,
            "_view_module": "@jupyter-widgets/controls",
            "_view_module_version": "1.5.0",
            "_view_name": "HBoxView",
            "box_style": "",
            "children": [
              "IPY_MODEL_74033aa96faf43708360a2df0afcdd98",
              "IPY_MODEL_7a58410ef422445b9df0a7e5fdd33487",
              "IPY_MODEL_5e13706165ab46b49387eeee49adb901"
            ],
            "layout": "IPY_MODEL_16305660325f4013a5501677d84bcc13"
          }
        },
        "74033aa96faf43708360a2df0afcdd98": {
          "model_module": "@jupyter-widgets/controls",
          "model_name": "HTMLModel",
          "model_module_version": "1.5.0",
          "state": {
            "_dom_classes": [],
            "_model_module": "@jupyter-widgets/controls",
            "_model_module_version": "1.5.0",
            "_model_name": "HTMLModel",
            "_view_count": null,
            "_view_module": "@jupyter-widgets/controls",
            "_view_module_version": "1.5.0",
            "_view_name": "HTMLView",
            "description": "",
            "description_tooltip": null,
            "layout": "IPY_MODEL_bda94e7c12894324860a30836b39aa02",
            "placeholder": "​",
            "style": "IPY_MODEL_146ee5a598d548368f88c1d7afb5ca36",
            "value": "100%"
          }
        },
        "7a58410ef422445b9df0a7e5fdd33487": {
          "model_module": "@jupyter-widgets/controls",
          "model_name": "FloatProgressModel",
          "model_module_version": "1.5.0",
          "state": {
            "_dom_classes": [],
            "_model_module": "@jupyter-widgets/controls",
            "_model_module_version": "1.5.0",
            "_model_name": "FloatProgressModel",
            "_view_count": null,
            "_view_module": "@jupyter-widgets/controls",
            "_view_module_version": "1.5.0",
            "_view_name": "ProgressView",
            "bar_style": "success",
            "description": "",
            "description_tooltip": null,
            "layout": "IPY_MODEL_6b5e7f1bdf924be08b2ea88039a84560",
            "max": 553433881,
            "min": 0,
            "orientation": "horizontal",
            "style": "IPY_MODEL_0db82690b4014567bfaa2f9e8fbfaa09",
            "value": 553433881
          }
        },
        "5e13706165ab46b49387eeee49adb901": {
          "model_module": "@jupyter-widgets/controls",
          "model_name": "HTMLModel",
          "model_module_version": "1.5.0",
          "state": {
            "_dom_classes": [],
            "_model_module": "@jupyter-widgets/controls",
            "_model_module_version": "1.5.0",
            "_model_name": "HTMLModel",
            "_view_count": null,
            "_view_module": "@jupyter-widgets/controls",
            "_view_module_version": "1.5.0",
            "_view_name": "HTMLView",
            "description": "",
            "description_tooltip": null,
            "layout": "IPY_MODEL_a66129d79d504284a5c2ea12982d0bee",
            "placeholder": "​",
            "style": "IPY_MODEL_69466b2bb4934638a9131ba5deae4b1e",
            "value": " 528M/528M [00:04&lt;00:00, 111MB/s]"
          }
        },
        "16305660325f4013a5501677d84bcc13": {
          "model_module": "@jupyter-widgets/base",
          "model_name": "LayoutModel",
          "model_module_version": "1.2.0",
          "state": {
            "_model_module": "@jupyter-widgets/base",
            "_model_module_version": "1.2.0",
            "_model_name": "LayoutModel",
            "_view_count": null,
            "_view_module": "@jupyter-widgets/base",
            "_view_module_version": "1.2.0",
            "_view_name": "LayoutView",
            "align_content": null,
            "align_items": null,
            "align_self": null,
            "border": null,
            "bottom": null,
            "display": null,
            "flex": null,
            "flex_flow": null,
            "grid_area": null,
            "grid_auto_columns": null,
            "grid_auto_flow": null,
            "grid_auto_rows": null,
            "grid_column": null,
            "grid_gap": null,
            "grid_row": null,
            "grid_template_areas": null,
            "grid_template_columns": null,
            "grid_template_rows": null,
            "height": null,
            "justify_content": null,
            "justify_items": null,
            "left": null,
            "margin": null,
            "max_height": null,
            "max_width": null,
            "min_height": null,
            "min_width": null,
            "object_fit": null,
            "object_position": null,
            "order": null,
            "overflow": null,
            "overflow_x": null,
            "overflow_y": null,
            "padding": null,
            "right": null,
            "top": null,
            "visibility": null,
            "width": null
          }
        },
        "bda94e7c12894324860a30836b39aa02": {
          "model_module": "@jupyter-widgets/base",
          "model_name": "LayoutModel",
          "model_module_version": "1.2.0",
          "state": {
            "_model_module": "@jupyter-widgets/base",
            "_model_module_version": "1.2.0",
            "_model_name": "LayoutModel",
            "_view_count": null,
            "_view_module": "@jupyter-widgets/base",
            "_view_module_version": "1.2.0",
            "_view_name": "LayoutView",
            "align_content": null,
            "align_items": null,
            "align_self": null,
            "border": null,
            "bottom": null,
            "display": null,
            "flex": null,
            "flex_flow": null,
            "grid_area": null,
            "grid_auto_columns": null,
            "grid_auto_flow": null,
            "grid_auto_rows": null,
            "grid_column": null,
            "grid_gap": null,
            "grid_row": null,
            "grid_template_areas": null,
            "grid_template_columns": null,
            "grid_template_rows": null,
            "height": null,
            "justify_content": null,
            "justify_items": null,
            "left": null,
            "margin": null,
            "max_height": null,
            "max_width": null,
            "min_height": null,
            "min_width": null,
            "object_fit": null,
            "object_position": null,
            "order": null,
            "overflow": null,
            "overflow_x": null,
            "overflow_y": null,
            "padding": null,
            "right": null,
            "top": null,
            "visibility": null,
            "width": null
          }
        },
        "146ee5a598d548368f88c1d7afb5ca36": {
          "model_module": "@jupyter-widgets/controls",
          "model_name": "DescriptionStyleModel",
          "model_module_version": "1.5.0",
          "state": {
            "_model_module": "@jupyter-widgets/controls",
            "_model_module_version": "1.5.0",
            "_model_name": "DescriptionStyleModel",
            "_view_count": null,
            "_view_module": "@jupyter-widgets/base",
            "_view_module_version": "1.2.0",
            "_view_name": "StyleView",
            "description_width": ""
          }
        },
        "6b5e7f1bdf924be08b2ea88039a84560": {
          "model_module": "@jupyter-widgets/base",
          "model_name": "LayoutModel",
          "model_module_version": "1.2.0",
          "state": {
            "_model_module": "@jupyter-widgets/base",
            "_model_module_version": "1.2.0",
            "_model_name": "LayoutModel",
            "_view_count": null,
            "_view_module": "@jupyter-widgets/base",
            "_view_module_version": "1.2.0",
            "_view_name": "LayoutView",
            "align_content": null,
            "align_items": null,
            "align_self": null,
            "border": null,
            "bottom": null,
            "display": null,
            "flex": null,
            "flex_flow": null,
            "grid_area": null,
            "grid_auto_columns": null,
            "grid_auto_flow": null,
            "grid_auto_rows": null,
            "grid_column": null,
            "grid_gap": null,
            "grid_row": null,
            "grid_template_areas": null,
            "grid_template_columns": null,
            "grid_template_rows": null,
            "height": null,
            "justify_content": null,
            "justify_items": null,
            "left": null,
            "margin": null,
            "max_height": null,
            "max_width": null,
            "min_height": null,
            "min_width": null,
            "object_fit": null,
            "object_position": null,
            "order": null,
            "overflow": null,
            "overflow_x": null,
            "overflow_y": null,
            "padding": null,
            "right": null,
            "top": null,
            "visibility": null,
            "width": null
          }
        },
        "0db82690b4014567bfaa2f9e8fbfaa09": {
          "model_module": "@jupyter-widgets/controls",
          "model_name": "ProgressStyleModel",
          "model_module_version": "1.5.0",
          "state": {
            "_model_module": "@jupyter-widgets/controls",
            "_model_module_version": "1.5.0",
            "_model_name": "ProgressStyleModel",
            "_view_count": null,
            "_view_module": "@jupyter-widgets/base",
            "_view_module_version": "1.2.0",
            "_view_name": "StyleView",
            "bar_color": null,
            "description_width": ""
          }
        },
        "a66129d79d504284a5c2ea12982d0bee": {
          "model_module": "@jupyter-widgets/base",
          "model_name": "LayoutModel",
          "model_module_version": "1.2.0",
          "state": {
            "_model_module": "@jupyter-widgets/base",
            "_model_module_version": "1.2.0",
            "_model_name": "LayoutModel",
            "_view_count": null,
            "_view_module": "@jupyter-widgets/base",
            "_view_module_version": "1.2.0",
            "_view_name": "LayoutView",
            "align_content": null,
            "align_items": null,
            "align_self": null,
            "border": null,
            "bottom": null,
            "display": null,
            "flex": null,
            "flex_flow": null,
            "grid_area": null,
            "grid_auto_columns": null,
            "grid_auto_flow": null,
            "grid_auto_rows": null,
            "grid_column": null,
            "grid_gap": null,
            "grid_row": null,
            "grid_template_areas": null,
            "grid_template_columns": null,
            "grid_template_rows": null,
            "height": null,
            "justify_content": null,
            "justify_items": null,
            "left": null,
            "margin": null,
            "max_height": null,
            "max_width": null,
            "min_height": null,
            "min_width": null,
            "object_fit": null,
            "object_position": null,
            "order": null,
            "overflow": null,
            "overflow_x": null,
            "overflow_y": null,
            "padding": null,
            "right": null,
            "top": null,
            "visibility": null,
            "width": null
          }
        },
        "69466b2bb4934638a9131ba5deae4b1e": {
          "model_module": "@jupyter-widgets/controls",
          "model_name": "DescriptionStyleModel",
          "model_module_version": "1.5.0",
          "state": {
            "_model_module": "@jupyter-widgets/controls",
            "_model_module_version": "1.5.0",
            "_model_name": "DescriptionStyleModel",
            "_view_count": null,
            "_view_module": "@jupyter-widgets/base",
            "_view_module_version": "1.2.0",
            "_view_name": "StyleView",
            "description_width": ""
          }
        }
      }
    }
  },
  "cells": [
    {
      "cell_type": "code",
      "execution_count": 1,
      "metadata": {
        "id": "3kpoSgWbYQ-z"
      },
      "outputs": [],
      "source": [
        "import numpy as np\n",
        "import json\n",
        "from PIL import Image\n",
        "import matplotlib.pyplot as plt\n",
        "%matplotlib inline\n",
        "\n",
        "import torch\n",
        "import torchvision\n",
        "from torchvision import models,transforms"
      ]
    },
    {
      "cell_type": "code",
      "source": [
        "print(\"Pytorch Version:\",torch.__version__)\n",
        "print(\"TorchVision Version\",torch.__version__)"
      ],
      "metadata": {
        "colab": {
          "base_uri": "https://localhost:8080/"
        },
        "id": "Pgp5rhRRY0l_",
        "outputId": "eefc93e6-864d-4b5e-c395-358ba7000911"
      },
      "execution_count": 2,
      "outputs": [
        {
          "output_type": "stream",
          "name": "stdout",
          "text": [
            "Pytorch Version: 1.12.1+cu113\n",
            "TorchVision Version 1.12.1+cu113\n"
          ]
        }
      ]
    },
    {
      "cell_type": "code",
      "source": [
        "#学習済みモデルで検証\n",
        "use_pretrained=True\n",
        "net=models.vgg16(pretrained=use_pretrained)\n",
        "net.eval()\n",
        "print(net)"
      ],
      "metadata": {
        "colab": {
          "base_uri": "https://localhost:8080/",
          "height": 937,
          "referenced_widgets": [
            "94be1dfe81044091803ca05563120e4e",
            "74033aa96faf43708360a2df0afcdd98",
            "7a58410ef422445b9df0a7e5fdd33487",
            "5e13706165ab46b49387eeee49adb901",
            "16305660325f4013a5501677d84bcc13",
            "bda94e7c12894324860a30836b39aa02",
            "146ee5a598d548368f88c1d7afb5ca36",
            "6b5e7f1bdf924be08b2ea88039a84560",
            "0db82690b4014567bfaa2f9e8fbfaa09",
            "a66129d79d504284a5c2ea12982d0bee",
            "69466b2bb4934638a9131ba5deae4b1e"
          ]
        },
        "id": "U6tX-VOoZEL4",
        "outputId": "8a59a5db-ab78-4951-b76c-d39e8f19ecfb"
      },
      "execution_count": 3,
      "outputs": [
        {
          "output_type": "stream",
          "name": "stderr",
          "text": [
            "/usr/local/lib/python3.7/dist-packages/torchvision/models/_utils.py:209: UserWarning: The parameter 'pretrained' is deprecated since 0.13 and will be removed in 0.15, please use 'weights' instead.\n",
            "  f\"The parameter '{pretrained_param}' is deprecated since 0.13 and will be removed in 0.15, \"\n",
            "/usr/local/lib/python3.7/dist-packages/torchvision/models/_utils.py:223: UserWarning: Arguments other than a weight enum or `None` for 'weights' are deprecated since 0.13 and will be removed in 0.15. The current behavior is equivalent to passing `weights=VGG16_Weights.IMAGENET1K_V1`. You can also use `weights=VGG16_Weights.DEFAULT` to get the most up-to-date weights.\n",
            "  warnings.warn(msg)\n",
            "Downloading: \"https://download.pytorch.org/models/vgg16-397923af.pth\" to /root/.cache/torch/hub/checkpoints/vgg16-397923af.pth\n"
          ]
        },
        {
          "output_type": "display_data",
          "data": {
            "text/plain": [
              "  0%|          | 0.00/528M [00:00<?, ?B/s]"
            ],
            "application/vnd.jupyter.widget-view+json": {
              "version_major": 2,
              "version_minor": 0,
              "model_id": "94be1dfe81044091803ca05563120e4e"
            }
          },
          "metadata": {}
        },
        {
          "output_type": "stream",
          "name": "stdout",
          "text": [
            "VGG(\n",
            "  (features): Sequential(\n",
            "    (0): Conv2d(3, 64, kernel_size=(3, 3), stride=(1, 1), padding=(1, 1))\n",
            "    (1): ReLU(inplace=True)\n",
            "    (2): Conv2d(64, 64, kernel_size=(3, 3), stride=(1, 1), padding=(1, 1))\n",
            "    (3): ReLU(inplace=True)\n",
            "    (4): MaxPool2d(kernel_size=2, stride=2, padding=0, dilation=1, ceil_mode=False)\n",
            "    (5): Conv2d(64, 128, kernel_size=(3, 3), stride=(1, 1), padding=(1, 1))\n",
            "    (6): ReLU(inplace=True)\n",
            "    (7): Conv2d(128, 128, kernel_size=(3, 3), stride=(1, 1), padding=(1, 1))\n",
            "    (8): ReLU(inplace=True)\n",
            "    (9): MaxPool2d(kernel_size=2, stride=2, padding=0, dilation=1, ceil_mode=False)\n",
            "    (10): Conv2d(128, 256, kernel_size=(3, 3), stride=(1, 1), padding=(1, 1))\n",
            "    (11): ReLU(inplace=True)\n",
            "    (12): Conv2d(256, 256, kernel_size=(3, 3), stride=(1, 1), padding=(1, 1))\n",
            "    (13): ReLU(inplace=True)\n",
            "    (14): Conv2d(256, 256, kernel_size=(3, 3), stride=(1, 1), padding=(1, 1))\n",
            "    (15): ReLU(inplace=True)\n",
            "    (16): MaxPool2d(kernel_size=2, stride=2, padding=0, dilation=1, ceil_mode=False)\n",
            "    (17): Conv2d(256, 512, kernel_size=(3, 3), stride=(1, 1), padding=(1, 1))\n",
            "    (18): ReLU(inplace=True)\n",
            "    (19): Conv2d(512, 512, kernel_size=(3, 3), stride=(1, 1), padding=(1, 1))\n",
            "    (20): ReLU(inplace=True)\n",
            "    (21): Conv2d(512, 512, kernel_size=(3, 3), stride=(1, 1), padding=(1, 1))\n",
            "    (22): ReLU(inplace=True)\n",
            "    (23): MaxPool2d(kernel_size=2, stride=2, padding=0, dilation=1, ceil_mode=False)\n",
            "    (24): Conv2d(512, 512, kernel_size=(3, 3), stride=(1, 1), padding=(1, 1))\n",
            "    (25): ReLU(inplace=True)\n",
            "    (26): Conv2d(512, 512, kernel_size=(3, 3), stride=(1, 1), padding=(1, 1))\n",
            "    (27): ReLU(inplace=True)\n",
            "    (28): Conv2d(512, 512, kernel_size=(3, 3), stride=(1, 1), padding=(1, 1))\n",
            "    (29): ReLU(inplace=True)\n",
            "    (30): MaxPool2d(kernel_size=2, stride=2, padding=0, dilation=1, ceil_mode=False)\n",
            "  )\n",
            "  (avgpool): AdaptiveAvgPool2d(output_size=(7, 7))\n",
            "  (classifier): Sequential(\n",
            "    (0): Linear(in_features=25088, out_features=4096, bias=True)\n",
            "    (1): ReLU(inplace=True)\n",
            "    (2): Dropout(p=0.5, inplace=False)\n",
            "    (3): Linear(in_features=4096, out_features=4096, bias=True)\n",
            "    (4): ReLU(inplace=True)\n",
            "    (5): Dropout(p=0.5, inplace=False)\n",
            "    (6): Linear(in_features=4096, out_features=1000, bias=True)\n",
            "  )\n",
            ")\n"
          ]
        }
      ]
    },
    {
      "cell_type": "code",
      "source": [
        "import random\n",
        "torch.manual_seed(1234)\n",
        "np.random.seed(1234)\n",
        "random.seed(1234)\n",
        "torch.backends.cudnn.deterministic=True\n",
        "torch.backends.cudnn.benchmark=False"
      ],
      "metadata": {
        "id": "-zVj0c3Ve4oC"
      },
      "execution_count": 4,
      "outputs": []
    },
    {
      "cell_type": "code",
      "source": [
        "#前処理クラス\n",
        "class ImageTransform():\n",
        "  def __init__(self,resize,mean,std):\n",
        "    self.data_transform={\n",
        "        'train':transforms.Compose([\n",
        "            #スケールを0.5~1.0, アスペクト比3/4~4/3にランダム変更\n",
        "            transforms.RandomResizedCrop(resize,scale=(0.5,1.0)),\n",
        "            #左右反転を50%で行う\n",
        "            transforms.RandomHorizontalFlip(),\n",
        "            transforms.ToTensor(),\n",
        "            transforms.Normalize(mean,std)\n",
        "        ]),\n",
        "        'val':transforms.Compose([\n",
        "            transforms.Resize(resize),\n",
        "            transforms.CenterCrop(resize),\n",
        "            transforms.ToTensor(),\n",
        "            transforms.Normalize(mean,std)\n",
        "        ])\n",
        "    }\n",
        "\n",
        "  def __call__(self, img, phase='train'):\n",
        "    return self.data_transform[phase](img)"
      ],
      "metadata": {
        "id": "Cp6K3UqFgdvl"
      },
      "execution_count": 5,
      "outputs": []
    },
    {
      "cell_type": "code",
      "source": [
        "import os.path as osp\n",
        "import glob\n",
        "import random\n",
        "import torch.utils.data as data"
      ],
      "metadata": {
        "id": "IZuz7iaCbINM"
      },
      "execution_count": 6,
      "outputs": []
    },
    {
      "cell_type": "code",
      "source": [
        "# make_folders_and_data_downloads.ipynbの中身を実行\n",
        "import os\n",
        "import urllib.request\n",
        "import zipfile\n",
        "\n",
        "\n",
        "data_dir = \"./data/\"\n",
        "if not os.path.exists(data_dir):\n",
        "    os.mkdir(data_dir)\n",
        "\n",
        "url = \"https://s3.amazonaws.com/deep-learning-models/image-models/imagenet_class_index.json\"\n",
        "save_path = os.path.join(data_dir, \"imagenet_class_index.json\")\n",
        "\n",
        "if not os.path.exists(save_path):\n",
        "    urllib.request.urlretrieve(url, save_path)\n",
        "\n",
        "url = \"https://download.pytorch.org/tutorial/hymenoptera_data.zip\"\n",
        "save_path = os.path.join(data_dir, \"hymenoptera_data.zip\")\n",
        "\n",
        "if not os.path.exists(save_path):\n",
        "    urllib.request.urlretrieve(url, save_path)\n",
        "\n",
        "    # ZIPファイルを読み込み\n",
        "    zip = zipfile.ZipFile(save_path)\n",
        "    zip.extractall(data_dir)  # ZIPを解凍\n",
        "    zip.close()  # ZIPファイルをクローズ\n",
        "\n",
        "    # ZIPファイルを消去\n",
        "    os.remove(save_path)"
      ],
      "metadata": {
        "id": "wyfGWLQBjC8b"
      },
      "execution_count": 7,
      "outputs": []
    },
    {
      "cell_type": "code",
      "source": [
        "def make_datapath_list(phase=\"train\"):\n",
        "  \n",
        "  path_list=[]\n",
        "  rootpath=\"/content/data/hymenoptera_data/\"\n",
        "  target_path=osp.join(rootpath+phase+'/**/*.jpg')\n",
        "  print(target_path)\n",
        "  for path in glob.glob(target_path):\n",
        "    path_list.append(path)\n",
        "\n",
        "  return path_list"
      ],
      "metadata": {
        "id": "YNvFj6CtftQY"
      },
      "execution_count": 8,
      "outputs": []
    },
    {
      "cell_type": "code",
      "source": [
        "train_list=make_datapath_list(\"train\")\n",
        "val_list=make_datapath_list(\"val\")"
      ],
      "metadata": {
        "colab": {
          "base_uri": "https://localhost:8080/"
        },
        "id": "5S_SIW-Ko1tN",
        "outputId": "972a41c7-1785-4749-c58c-062845a9fe38"
      },
      "execution_count": 9,
      "outputs": [
        {
          "output_type": "stream",
          "name": "stdout",
          "text": [
            "/content/data/hymenoptera_data/train/**/*.jpg\n",
            "/content/data/hymenoptera_data/val/**/*.jpg\n"
          ]
        }
      ]
    },
    {
      "cell_type": "code",
      "source": [
        "train_list"
      ],
      "metadata": {
        "colab": {
          "base_uri": "https://localhost:8080/"
        },
        "id": "UljScHfzpD3p",
        "outputId": "12e8a59a-43f3-4f50-bf96-85c51ccf1e32"
      },
      "execution_count": 10,
      "outputs": [
        {
          "output_type": "execute_result",
          "data": {
            "text/plain": [
              "['/content/data/hymenoptera_data/train/bees/2908916142_a7ac8b57a8.jpg',\n",
              " '/content/data/hymenoptera_data/train/bees/266644509_d30bb16a1b.jpg',\n",
              " '/content/data/hymenoptera_data/train/bees/196658222_3fffd79c67.jpg',\n",
              " '/content/data/hymenoptera_data/train/bees/29494643_e3410f0d37.jpg',\n",
              " '/content/data/hymenoptera_data/train/bees/513545352_fd3e7c7c5d.jpg',\n",
              " '/content/data/hymenoptera_data/train/bees/208702903_42fb4d9748.jpg',\n",
              " '/content/data/hymenoptera_data/train/bees/198508668_97d818b6c4.jpg',\n",
              " '/content/data/hymenoptera_data/train/bees/2822388965_f6dca2a275.jpg',\n",
              " '/content/data/hymenoptera_data/train/bees/2645107662_b73a8595cc.jpg',\n",
              " '/content/data/hymenoptera_data/train/bees/1799726602_8580867f71.jpg',\n",
              " '/content/data/hymenoptera_data/train/bees/2345177635_caf07159b3.jpg',\n",
              " '/content/data/hymenoptera_data/train/bees/85112639_6e860b0469.jpg',\n",
              " '/content/data/hymenoptera_data/train/bees/2364597044_3c3e3fc391.jpg',\n",
              " '/content/data/hymenoptera_data/train/bees/95238259_98470c5b10.jpg',\n",
              " '/content/data/hymenoptera_data/train/bees/774440991_63a4aa0cbe.jpg',\n",
              " '/content/data/hymenoptera_data/train/bees/132511197_0b86ad0fff.jpg',\n",
              " '/content/data/hymenoptera_data/train/bees/2756397428_1d82a08807.jpg',\n",
              " '/content/data/hymenoptera_data/train/bees/522104315_5d3cb2758e.jpg',\n",
              " '/content/data/hymenoptera_data/train/bees/2405441001_b06c36fa72.jpg',\n",
              " '/content/data/hymenoptera_data/train/bees/509247772_2db2d01374.jpg',\n",
              " '/content/data/hymenoptera_data/train/bees/2528444139_fa728b0f5b.jpg',\n",
              " '/content/data/hymenoptera_data/train/bees/39672681_1302d204d1.jpg',\n",
              " '/content/data/hymenoptera_data/train/bees/2486729079_62df0920be.jpg',\n",
              " '/content/data/hymenoptera_data/train/bees/586041248_3032e277a9.jpg',\n",
              " '/content/data/hymenoptera_data/train/bees/3030772428_8578335616.jpg',\n",
              " '/content/data/hymenoptera_data/train/bees/1295655112_7813f37d21.jpg',\n",
              " '/content/data/hymenoptera_data/train/bees/2765347790_da6cf6cb40.jpg',\n",
              " '/content/data/hymenoptera_data/train/bees/2652877533_a564830cbf.jpg',\n",
              " '/content/data/hymenoptera_data/train/bees/129236073_0985e91c7d.jpg',\n",
              " '/content/data/hymenoptera_data/train/bees/150013791_969d9a968b.jpg',\n",
              " '/content/data/hymenoptera_data/train/bees/507288830_f46e8d4cb2.jpg',\n",
              " '/content/data/hymenoptera_data/train/bees/2477349551_e75c97cf4d.jpg',\n",
              " '/content/data/hymenoptera_data/train/bees/196430254_46bd129ae7.jpg',\n",
              " '/content/data/hymenoptera_data/train/bees/354167719_22dca13752.jpg',\n",
              " '/content/data/hymenoptera_data/train/bees/469333327_358ba8fe8a.jpg',\n",
              " '/content/data/hymenoptera_data/train/bees/2601176055_8464e6aa71.jpg',\n",
              " '/content/data/hymenoptera_data/train/bees/1092977343_cb42b38d62.jpg',\n",
              " '/content/data/hymenoptera_data/train/bees/2330918208_8074770c20.jpg',\n",
              " '/content/data/hymenoptera_data/train/bees/2861002136_52c7c6f708.jpg',\n",
              " '/content/data/hymenoptera_data/train/bees/2638074627_6b3ae746a0.jpg',\n",
              " '/content/data/hymenoptera_data/train/bees/2495722465_879acf9d85.jpg',\n",
              " '/content/data/hymenoptera_data/train/bees/2722592222_258d473e17.jpg',\n",
              " '/content/data/hymenoptera_data/train/bees/36900412_92b81831ad.jpg',\n",
              " '/content/data/hymenoptera_data/train/bees/21399619_3e61e5bb6f.jpg',\n",
              " '/content/data/hymenoptera_data/train/bees/2801728106_833798c909.jpg',\n",
              " '/content/data/hymenoptera_data/train/bees/132826773_dbbcb117b9.jpg',\n",
              " '/content/data/hymenoptera_data/train/bees/2651621464_a2fa8722eb.jpg',\n",
              " '/content/data/hymenoptera_data/train/bees/2227611847_ec72d40403.jpg',\n",
              " '/content/data/hymenoptera_data/train/bees/2321139806_d73d899e66.jpg',\n",
              " '/content/data/hymenoptera_data/train/bees/17209602_fe5a5a746f.jpg',\n",
              " '/content/data/hymenoptera_data/train/bees/2551813042_8a070aeb2b.jpg',\n",
              " '/content/data/hymenoptera_data/train/bees/2031225713_50ed499635.jpg',\n",
              " '/content/data/hymenoptera_data/train/bees/2625499656_e3415e374d.jpg',\n",
              " '/content/data/hymenoptera_data/train/bees/2959730355_416a18c63c.jpg',\n",
              " '/content/data/hymenoptera_data/train/bees/2397446847_04ef3cd3e1.jpg',\n",
              " '/content/data/hymenoptera_data/train/bees/2493379287_4100e1dacc.jpg',\n",
              " '/content/data/hymenoptera_data/train/bees/537309131_532bfa59ea.jpg',\n",
              " '/content/data/hymenoptera_data/train/bees/1807583459_4fe92b3133.jpg',\n",
              " '/content/data/hymenoptera_data/train/bees/2452236943_255bfd9e58.jpg',\n",
              " '/content/data/hymenoptera_data/train/bees/1691282715_0addfdf5e8.jpg',\n",
              " '/content/data/hymenoptera_data/train/bees/2781170484_5d61835d63.jpg',\n",
              " '/content/data/hymenoptera_data/train/bees/2792000093_e8ae0718cf.jpg',\n",
              " '/content/data/hymenoptera_data/train/bees/2580598377_a4caecdb54.jpg',\n",
              " '/content/data/hymenoptera_data/train/bees/760526046_547e8b381f.jpg',\n",
              " '/content/data/hymenoptera_data/train/bees/90179376_abc234e5f4.jpg',\n",
              " '/content/data/hymenoptera_data/train/bees/2683605182_9d2a0c66cf.jpg',\n",
              " '/content/data/hymenoptera_data/train/bees/2053200300_8911ef438a.jpg',\n",
              " '/content/data/hymenoptera_data/train/bees/3006264892_30e9cced70.jpg',\n",
              " '/content/data/hymenoptera_data/train/bees/1232245714_f862fbe385.jpg',\n",
              " '/content/data/hymenoptera_data/train/bees/2728759455_ce9bb8cd7a.jpg',\n",
              " '/content/data/hymenoptera_data/train/bees/2486746709_c43cec0e42.jpg',\n",
              " '/content/data/hymenoptera_data/train/bees/3079610310_ac2d0ae7bc.jpg',\n",
              " '/content/data/hymenoptera_data/train/bees/39747887_42df2855ee.jpg',\n",
              " '/content/data/hymenoptera_data/train/bees/2384149906_2cd8b0b699.jpg',\n",
              " '/content/data/hymenoptera_data/train/bees/3044402684_3853071a87.jpg',\n",
              " '/content/data/hymenoptera_data/train/bees/3090975720_71f12e6de4.jpg',\n",
              " '/content/data/hymenoptera_data/train/bees/421515404_e87569fd8b.jpg',\n",
              " '/content/data/hymenoptera_data/train/bees/365759866_b15700c59b.jpg',\n",
              " '/content/data/hymenoptera_data/train/bees/457457145_5f86eb7e9c.jpg',\n",
              " '/content/data/hymenoptera_data/train/bees/2617161745_fa3ebe85b4.jpg',\n",
              " '/content/data/hymenoptera_data/train/bees/1508176360_2972117c9d.jpg',\n",
              " '/content/data/hymenoptera_data/train/bees/16838648_415acd9e3f.jpg',\n",
              " '/content/data/hymenoptera_data/train/bees/205835650_e6f2614bee.jpg',\n",
              " '/content/data/hymenoptera_data/train/bees/1097045929_1753d1c765.jpg',\n",
              " '/content/data/hymenoptera_data/train/bees/3100226504_c0d4f1e3f1.jpg',\n",
              " '/content/data/hymenoptera_data/train/bees/2610838525_fe8e3cae47.jpg',\n",
              " '/content/data/hymenoptera_data/train/bees/342758693_c56b89b6b6.jpg',\n",
              " '/content/data/hymenoptera_data/train/bees/2538361678_9da84b77e3.jpg',\n",
              " '/content/data/hymenoptera_data/train/bees/452462677_7be43af8ff.jpg',\n",
              " '/content/data/hymenoptera_data/train/bees/760568592_45a52c847f.jpg',\n",
              " '/content/data/hymenoptera_data/train/bees/1093831624_fb5fbe2308.jpg',\n",
              " '/content/data/hymenoptera_data/train/bees/446296270_d9e8b93ecf.jpg',\n",
              " '/content/data/hymenoptera_data/train/bees/3030189811_01d095b793.jpg',\n",
              " '/content/data/hymenoptera_data/train/bees/2707440199_cd170bd512.jpg',\n",
              " '/content/data/hymenoptera_data/train/bees/2962405283_22718d9617.jpg',\n",
              " '/content/data/hymenoptera_data/train/bees/92663402_37f379e57a.jpg',\n",
              " '/content/data/hymenoptera_data/train/bees/472288710_2abee16fa0.jpg',\n",
              " '/content/data/hymenoptera_data/train/bees/873076652_eb098dab2d.jpg',\n",
              " '/content/data/hymenoptera_data/train/bees/2704348794_eb5d5178c2.jpg',\n",
              " '/content/data/hymenoptera_data/train/bees/2467959963_a7831e9ff0.jpg',\n",
              " '/content/data/hymenoptera_data/train/bees/2610833167_79bf0bcae5.jpg',\n",
              " '/content/data/hymenoptera_data/train/bees/444532809_9e931e2279.jpg',\n",
              " '/content/data/hymenoptera_data/train/bees/174142798_e5ad6d76e0.jpg',\n",
              " '/content/data/hymenoptera_data/train/bees/2634617358_f32fd16bea.jpg',\n",
              " '/content/data/hymenoptera_data/train/bees/98391118_bdb1e80cce.jpg',\n",
              " '/content/data/hymenoptera_data/train/bees/3074585407_9854eb3153.jpg',\n",
              " '/content/data/hymenoptera_data/train/bees/452462695_40a4e5b559.jpg',\n",
              " '/content/data/hymenoptera_data/train/bees/154600396_53e1252e52.jpg',\n",
              " '/content/data/hymenoptera_data/train/bees/478701318_bbd5e557b8.jpg',\n",
              " '/content/data/hymenoptera_data/train/bees/279113587_b4843db199.jpg',\n",
              " '/content/data/hymenoptera_data/train/bees/2037437624_2d7bce461f.jpg',\n",
              " '/content/data/hymenoptera_data/train/bees/465133211_80e0c27f60.jpg',\n",
              " '/content/data/hymenoptera_data/train/bees/2477324698_3d4b1b1cab.jpg',\n",
              " '/content/data/hymenoptera_data/train/bees/473618094_8ffdcab215.jpg',\n",
              " '/content/data/hymenoptera_data/train/bees/969455125_58c797ef17.jpg',\n",
              " '/content/data/hymenoptera_data/train/bees/476347960_52edd72b06.jpg',\n",
              " '/content/data/hymenoptera_data/train/bees/2358061370_9daabbd9ac.jpg',\n",
              " '/content/data/hymenoptera_data/train/bees/2710368626_cb42882dc8.jpg',\n",
              " '/content/data/hymenoptera_data/train/bees/2470492904_837e97800d.jpg',\n",
              " '/content/data/hymenoptera_data/train/bees/2445215254_51698ff797.jpg',\n",
              " '/content/data/hymenoptera_data/train/bees/359928878_b3b418c728.jpg',\n",
              " '/content/data/hymenoptera_data/train/ants/154124431_65460430f2.jpg',\n",
              " '/content/data/hymenoptera_data/train/ants/707895295_009cf23188.jpg',\n",
              " '/content/data/hymenoptera_data/train/ants/196057951_63bf063b92.jpg',\n",
              " '/content/data/hymenoptera_data/train/ants/167890289_dd5ba923f3.jpg',\n",
              " '/content/data/hymenoptera_data/train/ants/188552436_605cc9b36b.jpg',\n",
              " '/content/data/hymenoptera_data/train/ants/6240338_93729615ec.jpg',\n",
              " '/content/data/hymenoptera_data/train/ants/841049277_b28e58ad05.jpg',\n",
              " '/content/data/hymenoptera_data/train/ants/2278278459_6b99605e50.jpg',\n",
              " '/content/data/hymenoptera_data/train/ants/196757565_326437f5fe.jpg',\n",
              " '/content/data/hymenoptera_data/train/ants/army-ants-red-picture.jpg',\n",
              " '/content/data/hymenoptera_data/train/ants/374435068_7eee412ec4.jpg',\n",
              " '/content/data/hymenoptera_data/train/ants/474806473_ca6caab245.jpg',\n",
              " '/content/data/hymenoptera_data/train/ants/408393566_b5b694119b.jpg',\n",
              " '/content/data/hymenoptera_data/train/ants/148715752_302c84f5a4.jpg',\n",
              " '/content/data/hymenoptera_data/train/ants/termite-vs-ant.jpg',\n",
              " '/content/data/hymenoptera_data/train/ants/342438950_a3da61deab.jpg',\n",
              " '/content/data/hymenoptera_data/train/ants/2265825502_fff99cfd2d.jpg',\n",
              " '/content/data/hymenoptera_data/train/ants/649026570_e58656104b.jpg',\n",
              " '/content/data/hymenoptera_data/train/ants/2265824718_2c96f485da.jpg',\n",
              " '/content/data/hymenoptera_data/train/ants/957233405_25c1d1187b.jpg',\n",
              " '/content/data/hymenoptera_data/train/ants/255434217_1b2b3fe0a4.jpg',\n",
              " '/content/data/hymenoptera_data/train/ants/trap-jaw-ant-insect-bg.jpg',\n",
              " '/content/data/hymenoptera_data/train/ants/795000156_a9900a4a71.jpg',\n",
              " '/content/data/hymenoptera_data/train/ants/541630764_dbd285d63c.jpg',\n",
              " '/content/data/hymenoptera_data/train/ants/2288450226_a6e96e8fdf.jpg',\n",
              " '/content/data/hymenoptera_data/train/ants/533848102_70a85ad6dd.jpg',\n",
              " '/content/data/hymenoptera_data/train/ants/560966032_988f4d7bc4.jpg',\n",
              " '/content/data/hymenoptera_data/train/ants/543417860_b14237f569.jpg',\n",
              " '/content/data/hymenoptera_data/train/ants/1225872729_6f0856588f.jpg',\n",
              " '/content/data/hymenoptera_data/train/ants/386190770_672743c9a7.jpg',\n",
              " '/content/data/hymenoptera_data/train/ants/522415432_2218f34bf8.jpg',\n",
              " '/content/data/hymenoptera_data/train/ants/662541407_ff8db781e7.jpg',\n",
              " '/content/data/hymenoptera_data/train/ants/384191229_5779cf591b.jpg',\n",
              " '/content/data/hymenoptera_data/train/ants/275429470_b2d7d9290b.jpg',\n",
              " '/content/data/hymenoptera_data/train/ants/1262877379_64fcada201.jpg',\n",
              " '/content/data/hymenoptera_data/train/ants/Nepenthes_rafflesiana_ant.jpg',\n",
              " '/content/data/hymenoptera_data/train/ants/226951206_d6bf946504.jpg',\n",
              " '/content/data/hymenoptera_data/train/ants/424873399_47658a91fb.jpg',\n",
              " '/content/data/hymenoptera_data/train/ants/998118368_6ac1d91f81.jpg',\n",
              " '/content/data/hymenoptera_data/train/ants/MehdiabadiAnt2_600.jpg',\n",
              " '/content/data/hymenoptera_data/train/ants/1099452230_d1949d3250.jpg',\n",
              " '/content/data/hymenoptera_data/train/ants/201558278_fe4caecc76.jpg',\n",
              " '/content/data/hymenoptera_data/train/ants/132478121_2a430adea2.jpg',\n",
              " '/content/data/hymenoptera_data/train/ants/506249802_207cd979b4.jpg',\n",
              " '/content/data/hymenoptera_data/train/ants/VietnameseAntMimicSpider.jpg',\n",
              " '/content/data/hymenoptera_data/train/ants/1095476100_3906d8afde.jpg',\n",
              " '/content/data/hymenoptera_data/train/ants/938946700_ca1c669085.jpg',\n",
              " '/content/data/hymenoptera_data/train/ants/459694881_ac657d3187.jpg',\n",
              " '/content/data/hymenoptera_data/train/ants/150801003_3390b73135.jpg',\n",
              " '/content/data/hymenoptera_data/train/ants/1269756697_0bce92cdab.jpg',\n",
              " '/content/data/hymenoptera_data/train/ants/5650366_e22b7e1065.jpg',\n",
              " '/content/data/hymenoptera_data/train/ants/1473187633_63ccaacea6.jpg',\n",
              " '/content/data/hymenoptera_data/train/ants/245647475_9523dfd13e.jpg',\n",
              " '/content/data/hymenoptera_data/train/ants/20935278_9190345f6b.jpg',\n",
              " '/content/data/hymenoptera_data/train/ants/1924473702_daa9aacdbe.jpg',\n",
              " '/content/data/hymenoptera_data/train/ants/1693954099_46d4c20605.jpg',\n",
              " '/content/data/hymenoptera_data/train/ants/67270775_e9fdf77e9d.jpg',\n",
              " '/content/data/hymenoptera_data/train/ants/886401651_f878e888cd.jpg',\n",
              " '/content/data/hymenoptera_data/train/ants/334167043_cbd1adaeb9.jpg',\n",
              " '/content/data/hymenoptera_data/train/ants/531979952_bde12b3bc0.jpg',\n",
              " '/content/data/hymenoptera_data/train/ants/ant photos.jpg',\n",
              " '/content/data/hymenoptera_data/train/ants/1804095607_0341701e1c.jpg',\n",
              " '/content/data/hymenoptera_data/train/ants/swiss-army-ant.jpg',\n",
              " '/content/data/hymenoptera_data/train/ants/522163566_fec115ca66.jpg',\n",
              " '/content/data/hymenoptera_data/train/ants/116570827_e9c126745d.jpg',\n",
              " '/content/data/hymenoptera_data/train/ants/450057712_771b3bfc91.jpg',\n",
              " '/content/data/hymenoptera_data/train/ants/684133190_35b62c0c1d.jpg',\n",
              " '/content/data/hymenoptera_data/train/ants/339670531_94b75ae47a.jpg',\n",
              " '/content/data/hymenoptera_data/train/ants/224655713_3956f7d39a.jpg',\n",
              " '/content/data/hymenoptera_data/train/ants/1368913450_e146e2fb6d.jpg',\n",
              " '/content/data/hymenoptera_data/train/ants/45472593_bfd624f8dc.jpg',\n",
              " '/content/data/hymenoptera_data/train/ants/6743948_2b8c096dda.jpg',\n",
              " '/content/data/hymenoptera_data/train/ants/9715481_b3cb4114ff.jpg',\n",
              " '/content/data/hymenoptera_data/train/ants/1917341202_d00a7f9af5.jpg',\n",
              " '/content/data/hymenoptera_data/train/ants/kurokusa.jpg',\n",
              " '/content/data/hymenoptera_data/train/ants/hormiga_co_por.jpg',\n",
              " '/content/data/hymenoptera_data/train/ants/1808777855_2a895621d7.jpg',\n",
              " '/content/data/hymenoptera_data/train/ants/535522953_308353a07c.jpg',\n",
              " '/content/data/hymenoptera_data/train/ants/382971067_0bfd33afe0.jpg',\n",
              " '/content/data/hymenoptera_data/train/ants/1286984635_5119e80de1.jpg',\n",
              " '/content/data/hymenoptera_data/train/ants/258217966_d9d90d18d3.jpg',\n",
              " '/content/data/hymenoptera_data/train/ants/0013035.jpg',\n",
              " '/content/data/hymenoptera_data/train/ants/892108839_f1aad4ca46.jpg',\n",
              " '/content/data/hymenoptera_data/train/ants/150801171_cd86f17ed8.jpg',\n",
              " '/content/data/hymenoptera_data/train/ants/540889389_48bb588b21.jpg',\n",
              " '/content/data/hymenoptera_data/train/ants/175998972.jpg',\n",
              " '/content/data/hymenoptera_data/train/ants/Ant_1.jpg',\n",
              " '/content/data/hymenoptera_data/train/ants/36439863_0bec9f554f.jpg',\n",
              " '/content/data/hymenoptera_data/train/ants/28847243_e79fe052cd.jpg',\n",
              " '/content/data/hymenoptera_data/train/ants/201790779_527f4c0168.jpg',\n",
              " '/content/data/hymenoptera_data/train/ants/82852639_52b7f7f5e3.jpg',\n",
              " '/content/data/hymenoptera_data/train/ants/518773929_734dbc5ff4.jpg',\n",
              " '/content/data/hymenoptera_data/train/ants/466430434_4000737de9.jpg',\n",
              " '/content/data/hymenoptera_data/train/ants/207947948_3ab29d7207.jpg',\n",
              " '/content/data/hymenoptera_data/train/ants/2019439677_2db655d361.jpg',\n",
              " '/content/data/hymenoptera_data/train/ants/512164029_c0a66b8498.jpg',\n",
              " '/content/data/hymenoptera_data/train/ants/1660097129_384bf54490.jpg',\n",
              " '/content/data/hymenoptera_data/train/ants/1030023514_aad5c608f9.jpg',\n",
              " '/content/data/hymenoptera_data/train/ants/460874319_0a45ab4d05.jpg',\n",
              " '/content/data/hymenoptera_data/train/ants/7759525_1363d24e88.jpg',\n",
              " '/content/data/hymenoptera_data/train/ants/2292213964_ca51ce4bef.jpg',\n",
              " '/content/data/hymenoptera_data/train/ants/24335309_c5ea483bb8.jpg',\n",
              " '/content/data/hymenoptera_data/train/ants/6240329_72c01e663e.jpg',\n",
              " '/content/data/hymenoptera_data/train/ants/506249836_717b73f540.jpg',\n",
              " '/content/data/hymenoptera_data/train/ants/512863248_43c8ce579b.jpg',\n",
              " '/content/data/hymenoptera_data/train/ants/162603798_40b51f1654.jpg',\n",
              " '/content/data/hymenoptera_data/train/ants/2288481644_83ff7e4572.jpg',\n",
              " '/content/data/hymenoptera_data/train/ants/822537660_caf4ba5514.jpg',\n",
              " '/content/data/hymenoptera_data/train/ants/403746349_71384f5b58.jpg',\n",
              " '/content/data/hymenoptera_data/train/ants/318052216_84dff3f98a.jpg',\n",
              " '/content/data/hymenoptera_data/train/ants/470127037_513711fd21.jpg',\n",
              " '/content/data/hymenoptera_data/train/ants/475961153_b8c13fd405.jpg',\n",
              " '/content/data/hymenoptera_data/train/ants/460372577_f2f6a8c9fc.jpg',\n",
              " '/content/data/hymenoptera_data/train/ants/49375974_e28ba6f17e.jpg',\n",
              " '/content/data/hymenoptera_data/train/ants/484293231_e53cfc0c89.jpg',\n",
              " '/content/data/hymenoptera_data/train/ants/149244013_c529578289.jpg',\n",
              " '/content/data/hymenoptera_data/train/ants/69639610_95e0de17aa.jpg',\n",
              " '/content/data/hymenoptera_data/train/ants/178538489_bec7649292.jpg',\n",
              " '/content/data/hymenoptera_data/train/ants/1489674356_09d48dde0a.jpg',\n",
              " '/content/data/hymenoptera_data/train/ants/424119020_6d57481dab.jpg',\n",
              " '/content/data/hymenoptera_data/train/ants/392382602_1b7bed32fa.jpg',\n",
              " '/content/data/hymenoptera_data/train/ants/1360291657_dc248c5eea.jpg']"
            ]
          },
          "metadata": {},
          "execution_count": 10
        }
      ]
    },
    {
      "cell_type": "code",
      "source": [
        "class MakeDataset(data.Dataset):\n",
        "  def __init__(self,file_list,transform=None,phase='train'):\n",
        "    self.file_list=file_list\n",
        "    self.transform=transform\n",
        "    self.phase=phase\n",
        "\n",
        "  def __len__(self):\n",
        "    return len(self.file_list)\n",
        "\n",
        "  def __getitem__(self, index):\n",
        "    img_path=self.file_list[index]\n",
        "    img=Image.open(img_path)\n",
        "    img_transformed=self.transform(img,self.phase)\n",
        "    if self.phase==\"train\":\n",
        "      label=img_path[37:41]\n",
        "    else :\n",
        "      label=img_path[35:39]\n",
        "    \n",
        "    if label==\"ants\":\n",
        "      label=0\n",
        "    elif label==\"bees\":\n",
        "      label=1\n",
        "\n",
        "    return img_transformed,label"
      ],
      "metadata": {
        "id": "EHIm0IgYrTov"
      },
      "execution_count": 51,
      "outputs": []
    },
    {
      "cell_type": "code",
      "source": [
        "size = 224\n",
        "mean = (0.485, 0.456, 0.406)\n",
        "std = (0.229, 0.224, 0.225)\n",
        "train_dataset=MakeDataset(file_list=train_list,transform=ImageTransform(size,mean,std),phase=\"train\")\n",
        "test_dataset=MakeDataset(file_list=val_list,transform=ImageTransform(size,mean,std),phase=\"val\")"
      ],
      "metadata": {
        "id": "RWT4LLRnwLBd"
      },
      "execution_count": 52,
      "outputs": []
    },
    {
      "cell_type": "code",
      "source": [
        "index=0\n",
        "print(train_dataset.__getitem__(index)[0].size())\n",
        "print(train_dataset.__getitem__(index)[1])"
      ],
      "metadata": {
        "colab": {
          "base_uri": "https://localhost:8080/"
        },
        "id": "0eaNakImwqm4",
        "outputId": "fd78ab71-901d-4c1d-8f26-a91552fc1c6c"
      },
      "execution_count": 53,
      "outputs": [
        {
          "output_type": "stream",
          "name": "stdout",
          "text": [
            "torch.Size([3, 224, 224])\n",
            "1\n"
          ]
        }
      ]
    },
    {
      "cell_type": "code",
      "source": [
        "#DataLoaderの作成\n",
        "batch_size=32\n",
        "train_dataloader=torch.utils.data.DataLoader(train_dataset,batch_size=batch_size,shuffle=True)\n",
        "val_dataloader=torch.utils.data.DataLoader(test_dataset,batch_size=batch_size,shuffle=False)\n",
        "dataloaders_dict={\"train\":train_dataloader,\"val\":val_dataloader}"
      ],
      "metadata": {
        "id": "OrrUWmHDEYfO"
      },
      "execution_count": 54,
      "outputs": []
    },
    {
      "cell_type": "code",
      "source": [
        "batch_iterator=iter(dataloaders_dict[\"train\"])\n",
        "inputs,labels=next(batch_iterator)\n",
        "print(inputs.size())\n",
        "print(labels)"
      ],
      "metadata": {
        "colab": {
          "base_uri": "https://localhost:8080/"
        },
        "id": "IEiccu_CyPFI",
        "outputId": "6f96a5cc-ecc2-4271-fd58-e7e98607b57a"
      },
      "execution_count": 55,
      "outputs": [
        {
          "output_type": "stream",
          "name": "stdout",
          "text": [
            "torch.Size([32, 3, 224, 224])\n",
            "tensor([0, 0, 1, 1, 1, 1, 1, 1, 1, 0, 0, 0, 0, 1, 1, 1, 1, 0, 1, 0, 0, 1, 0, 0,\n",
            "        0, 0, 0, 1, 1, 0, 1, 1])\n"
          ]
        }
      ]
    },
    {
      "cell_type": "code",
      "source": [
        "#モデルの作成\n",
        "use_pretrained=True\n",
        "net=models.vgg16(pretrained=use_pretrained)\n",
        "print(net)"
      ],
      "metadata": {
        "colab": {
          "base_uri": "https://localhost:8080/"
        },
        "id": "wOtuwc-GpUGW",
        "outputId": "df3e81e7-0629-495a-f811-809286825824"
      },
      "execution_count": 56,
      "outputs": [
        {
          "output_type": "stream",
          "name": "stdout",
          "text": [
            "VGG(\n",
            "  (features): Sequential(\n",
            "    (0): Conv2d(3, 64, kernel_size=(3, 3), stride=(1, 1), padding=(1, 1))\n",
            "    (1): ReLU(inplace=True)\n",
            "    (2): Conv2d(64, 64, kernel_size=(3, 3), stride=(1, 1), padding=(1, 1))\n",
            "    (3): ReLU(inplace=True)\n",
            "    (4): MaxPool2d(kernel_size=2, stride=2, padding=0, dilation=1, ceil_mode=False)\n",
            "    (5): Conv2d(64, 128, kernel_size=(3, 3), stride=(1, 1), padding=(1, 1))\n",
            "    (6): ReLU(inplace=True)\n",
            "    (7): Conv2d(128, 128, kernel_size=(3, 3), stride=(1, 1), padding=(1, 1))\n",
            "    (8): ReLU(inplace=True)\n",
            "    (9): MaxPool2d(kernel_size=2, stride=2, padding=0, dilation=1, ceil_mode=False)\n",
            "    (10): Conv2d(128, 256, kernel_size=(3, 3), stride=(1, 1), padding=(1, 1))\n",
            "    (11): ReLU(inplace=True)\n",
            "    (12): Conv2d(256, 256, kernel_size=(3, 3), stride=(1, 1), padding=(1, 1))\n",
            "    (13): ReLU(inplace=True)\n",
            "    (14): Conv2d(256, 256, kernel_size=(3, 3), stride=(1, 1), padding=(1, 1))\n",
            "    (15): ReLU(inplace=True)\n",
            "    (16): MaxPool2d(kernel_size=2, stride=2, padding=0, dilation=1, ceil_mode=False)\n",
            "    (17): Conv2d(256, 512, kernel_size=(3, 3), stride=(1, 1), padding=(1, 1))\n",
            "    (18): ReLU(inplace=True)\n",
            "    (19): Conv2d(512, 512, kernel_size=(3, 3), stride=(1, 1), padding=(1, 1))\n",
            "    (20): ReLU(inplace=True)\n",
            "    (21): Conv2d(512, 512, kernel_size=(3, 3), stride=(1, 1), padding=(1, 1))\n",
            "    (22): ReLU(inplace=True)\n",
            "    (23): MaxPool2d(kernel_size=2, stride=2, padding=0, dilation=1, ceil_mode=False)\n",
            "    (24): Conv2d(512, 512, kernel_size=(3, 3), stride=(1, 1), padding=(1, 1))\n",
            "    (25): ReLU(inplace=True)\n",
            "    (26): Conv2d(512, 512, kernel_size=(3, 3), stride=(1, 1), padding=(1, 1))\n",
            "    (27): ReLU(inplace=True)\n",
            "    (28): Conv2d(512, 512, kernel_size=(3, 3), stride=(1, 1), padding=(1, 1))\n",
            "    (29): ReLU(inplace=True)\n",
            "    (30): MaxPool2d(kernel_size=2, stride=2, padding=0, dilation=1, ceil_mode=False)\n",
            "  )\n",
            "  (avgpool): AdaptiveAvgPool2d(output_size=(7, 7))\n",
            "  (classifier): Sequential(\n",
            "    (0): Linear(in_features=25088, out_features=4096, bias=True)\n",
            "    (1): ReLU(inplace=True)\n",
            "    (2): Dropout(p=0.5, inplace=False)\n",
            "    (3): Linear(in_features=4096, out_features=4096, bias=True)\n",
            "    (4): ReLU(inplace=True)\n",
            "    (5): Dropout(p=0.5, inplace=False)\n",
            "    (6): Linear(in_features=4096, out_features=1000, bias=True)\n",
            "  )\n",
            ")\n"
          ]
        }
      ]
    },
    {
      "cell_type": "code",
      "source": [
        "import torch.nn as nn\n",
        "net.classifier[6]=nn.Linear(in_features=4096,out_features=2)\n",
        "print(net)"
      ],
      "metadata": {
        "colab": {
          "base_uri": "https://localhost:8080/"
        },
        "id": "QiouWHJ4y9Lh",
        "outputId": "d5d4388c-3d8d-4c70-bc56-f7899cc69835"
      },
      "execution_count": 57,
      "outputs": [
        {
          "output_type": "stream",
          "name": "stdout",
          "text": [
            "VGG(\n",
            "  (features): Sequential(\n",
            "    (0): Conv2d(3, 64, kernel_size=(3, 3), stride=(1, 1), padding=(1, 1))\n",
            "    (1): ReLU(inplace=True)\n",
            "    (2): Conv2d(64, 64, kernel_size=(3, 3), stride=(1, 1), padding=(1, 1))\n",
            "    (3): ReLU(inplace=True)\n",
            "    (4): MaxPool2d(kernel_size=2, stride=2, padding=0, dilation=1, ceil_mode=False)\n",
            "    (5): Conv2d(64, 128, kernel_size=(3, 3), stride=(1, 1), padding=(1, 1))\n",
            "    (6): ReLU(inplace=True)\n",
            "    (7): Conv2d(128, 128, kernel_size=(3, 3), stride=(1, 1), padding=(1, 1))\n",
            "    (8): ReLU(inplace=True)\n",
            "    (9): MaxPool2d(kernel_size=2, stride=2, padding=0, dilation=1, ceil_mode=False)\n",
            "    (10): Conv2d(128, 256, kernel_size=(3, 3), stride=(1, 1), padding=(1, 1))\n",
            "    (11): ReLU(inplace=True)\n",
            "    (12): Conv2d(256, 256, kernel_size=(3, 3), stride=(1, 1), padding=(1, 1))\n",
            "    (13): ReLU(inplace=True)\n",
            "    (14): Conv2d(256, 256, kernel_size=(3, 3), stride=(1, 1), padding=(1, 1))\n",
            "    (15): ReLU(inplace=True)\n",
            "    (16): MaxPool2d(kernel_size=2, stride=2, padding=0, dilation=1, ceil_mode=False)\n",
            "    (17): Conv2d(256, 512, kernel_size=(3, 3), stride=(1, 1), padding=(1, 1))\n",
            "    (18): ReLU(inplace=True)\n",
            "    (19): Conv2d(512, 512, kernel_size=(3, 3), stride=(1, 1), padding=(1, 1))\n",
            "    (20): ReLU(inplace=True)\n",
            "    (21): Conv2d(512, 512, kernel_size=(3, 3), stride=(1, 1), padding=(1, 1))\n",
            "    (22): ReLU(inplace=True)\n",
            "    (23): MaxPool2d(kernel_size=2, stride=2, padding=0, dilation=1, ceil_mode=False)\n",
            "    (24): Conv2d(512, 512, kernel_size=(3, 3), stride=(1, 1), padding=(1, 1))\n",
            "    (25): ReLU(inplace=True)\n",
            "    (26): Conv2d(512, 512, kernel_size=(3, 3), stride=(1, 1), padding=(1, 1))\n",
            "    (27): ReLU(inplace=True)\n",
            "    (28): Conv2d(512, 512, kernel_size=(3, 3), stride=(1, 1), padding=(1, 1))\n",
            "    (29): ReLU(inplace=True)\n",
            "    (30): MaxPool2d(kernel_size=2, stride=2, padding=0, dilation=1, ceil_mode=False)\n",
            "  )\n",
            "  (avgpool): AdaptiveAvgPool2d(output_size=(7, 7))\n",
            "  (classifier): Sequential(\n",
            "    (0): Linear(in_features=25088, out_features=4096, bias=True)\n",
            "    (1): ReLU(inplace=True)\n",
            "    (2): Dropout(p=0.5, inplace=False)\n",
            "    (3): Linear(in_features=4096, out_features=4096, bias=True)\n",
            "    (4): ReLU(inplace=True)\n",
            "    (5): Dropout(p=0.5, inplace=False)\n",
            "    (6): Linear(in_features=4096, out_features=2, bias=True)\n",
            "  )\n",
            ")\n"
          ]
        }
      ]
    },
    {
      "cell_type": "code",
      "source": [
        "net.train()\n",
        "criterion=nn.CrossEntropyLoss()"
      ],
      "metadata": {
        "id": "O_al-XWUDRve"
      },
      "execution_count": 58,
      "outputs": []
    },
    {
      "cell_type": "code",
      "source": [
        "#転移学習の設定\n",
        "params_to_update1=[]\n",
        "params_to_update2=[]\n",
        "params_to_update3=[]\n",
        "\n",
        "update_param_names_1=[\"features\"]\n",
        "update_param_names_2=[\"classifier.0.weight\",\"classifier.0.bias\",\"classifier.3.weight\",\"classifier.3.bias\"]\n",
        "update_param_names_3=[\"classifier.6.weight\",\"classifier.6.bias\"]\n",
        "\n",
        "for name,param in net.named_parameters():\n",
        "  if update_param_names_1[0] in name:\n",
        "    param.requires_grad=True\n",
        "    params_to_update1.append(param)\n",
        "    print(\"params_to_update_1:\",name)\n",
        "\n",
        "  elif name in update_param_names_2:\n",
        "    param.requires_grad=True\n",
        "    params_to_update2.append(param)\n",
        "    print(\"params_to_update_2:\",name)\n",
        "\n",
        "  elif name in update_param_names_3:\n",
        "    param.requires_grad=True\n",
        "    params_to_update3.append(param)\n",
        "    print(\"params_to_update_3:\",name)\n",
        "\n",
        "  else:\n",
        "    param.requires_grad=False\n",
        "    print(\"勾配計算をしない:\",name)\n"
      ],
      "metadata": {
        "colab": {
          "base_uri": "https://localhost:8080/"
        },
        "id": "G6Pd3JQBAEUq",
        "outputId": "1d509699-18e3-4dad-9359-4c11324bfb14"
      },
      "execution_count": 59,
      "outputs": [
        {
          "output_type": "stream",
          "name": "stdout",
          "text": [
            "params_to_update_1: features.0.weight\n",
            "params_to_update_1: features.0.bias\n",
            "params_to_update_1: features.2.weight\n",
            "params_to_update_1: features.2.bias\n",
            "params_to_update_1: features.5.weight\n",
            "params_to_update_1: features.5.bias\n",
            "params_to_update_1: features.7.weight\n",
            "params_to_update_1: features.7.bias\n",
            "params_to_update_1: features.10.weight\n",
            "params_to_update_1: features.10.bias\n",
            "params_to_update_1: features.12.weight\n",
            "params_to_update_1: features.12.bias\n",
            "params_to_update_1: features.14.weight\n",
            "params_to_update_1: features.14.bias\n",
            "params_to_update_1: features.17.weight\n",
            "params_to_update_1: features.17.bias\n",
            "params_to_update_1: features.19.weight\n",
            "params_to_update_1: features.19.bias\n",
            "params_to_update_1: features.21.weight\n",
            "params_to_update_1: features.21.bias\n",
            "params_to_update_1: features.24.weight\n",
            "params_to_update_1: features.24.bias\n",
            "params_to_update_1: features.26.weight\n",
            "params_to_update_1: features.26.bias\n",
            "params_to_update_1: features.28.weight\n",
            "params_to_update_1: features.28.bias\n",
            "params_to_update_2: classifier.0.weight\n",
            "params_to_update_2: classifier.0.bias\n",
            "params_to_update_2: classifier.3.weight\n",
            "params_to_update_2: classifier.3.bias\n",
            "params_to_update_3: classifier.6.weight\n",
            "params_to_update_3: classifier.6.bias\n"
          ]
        }
      ]
    },
    {
      "cell_type": "code",
      "source": [
        "import torch.optim as optim\n",
        "optimizer=optim.SGD([\n",
        "    {'params':params_to_update1, 'lr':1e-4},\n",
        "    {'params':params_to_update2, 'lr':5e-4},\n",
        "    {'params':params_to_update3, 'lr':1e-3}\n",
        "],momentum=0.9)"
      ],
      "metadata": {
        "id": "xsH9R0otnCFk"
      },
      "execution_count": 60,
      "outputs": []
    },
    {
      "cell_type": "code",
      "source": [
        "from tqdm import tqdm\n",
        "\n",
        "def train_model(net,dataloaders_dict,criterion,optimizer,num_epochs):\n",
        "\n",
        "  device=torch.device('cuda:0' if torch.cuda.is_available() else \"cpu\")\n",
        "  print(\"device:\",device)\n",
        "  net.to(device)\n",
        "  torch.backends.cudnn.benchmark=True\n",
        "\n",
        "  for epoch in range(num_epochs):\n",
        "    print(\"Epoch {}/{}\".format(epoch+1,num_epochs))\n",
        "    print(\"-------\")\n",
        "\n",
        "    for phase in [\"train\",\"val\"]:\n",
        "      if phase==\"train\":\n",
        "        net.train()\n",
        "      else:\n",
        "        net.eval()\n",
        "\n",
        "      epoch_loss=0.0\n",
        "      epoch_corrects=0\n",
        "      if(epoch==0)and(phase==\"train\"):\n",
        "        continue\n",
        "      \n",
        "      for inputs,labels in tqdm(dataloaders_dict[phase]):\n",
        "        inputs=inputs.to(device)\n",
        "        labels=labels.to(device)\n",
        "\n",
        "        optimizer.zero_grad()\n",
        "        with torch.set_grad_enabled(phase==\"train\"):\n",
        "          outputs=net(inputs)\n",
        "          loss=criterion(outputs,labels)\n",
        "          _,preds=torch.max(outputs,1)\n",
        "\n",
        "          if phase==\"train\":\n",
        "            loss.backward()\n",
        "            optimizer.step()\n",
        "          \n",
        "          epoch_loss+=loss.item() * inputs.size(0)\n",
        "          epoch_corrects+=torch.sum(preds==labels.data)\n",
        "\n",
        "      epoch_loss=epoch_loss / len(dataloaders_dict[phase].dataset)\n",
        "      epoch_acc=epoch_corrects.double() / len(dataloaders_dict[phase].dataset)\n",
        "\n",
        "      print(\"{} Loss: {:.4f} Acc: {:4f}\".format(phase,epoch_loss,epoch_acc))"
      ],
      "metadata": {
        "id": "o41_JF6u0dVo"
      },
      "execution_count": 61,
      "outputs": []
    },
    {
      "cell_type": "code",
      "source": [
        "num_epochs=20\n",
        "train_model(net,dataloaders_dict,criterion,optimizer,num_epochs=num_epochs)"
      ],
      "metadata": {
        "colab": {
          "base_uri": "https://localhost:8080/"
        },
        "id": "LNBY06xJ3K8-",
        "outputId": "ada76fbc-29b2-4f5b-c15c-5c5a5722358f"
      },
      "execution_count": 62,
      "outputs": [
        {
          "output_type": "stream",
          "name": "stdout",
          "text": [
            "device: cuda:0\n",
            "Epoch 1/20\n",
            "-------\n"
          ]
        },
        {
          "output_type": "stream",
          "name": "stderr",
          "text": [
            "100%|██████████| 5/5 [00:03<00:00,  1.54it/s]\n"
          ]
        },
        {
          "output_type": "stream",
          "name": "stdout",
          "text": [
            "val Loss: 0.8342 Acc: 0.366013\n",
            "Epoch 2/20\n",
            "-------\n"
          ]
        },
        {
          "output_type": "stream",
          "name": "stderr",
          "text": [
            "100%|██████████| 8/8 [00:10<00:00,  1.31s/it]\n"
          ]
        },
        {
          "output_type": "stream",
          "name": "stdout",
          "text": [
            "train Loss: 0.5268 Acc: 0.720165\n"
          ]
        },
        {
          "output_type": "stream",
          "name": "stderr",
          "text": [
            "100%|██████████| 5/5 [00:01<00:00,  2.74it/s]\n"
          ]
        },
        {
          "output_type": "stream",
          "name": "stdout",
          "text": [
            "val Loss: 0.1817 Acc: 0.947712\n",
            "Epoch 3/20\n",
            "-------\n"
          ]
        },
        {
          "output_type": "stream",
          "name": "stderr",
          "text": [
            "100%|██████████| 8/8 [00:04<00:00,  1.63it/s]\n"
          ]
        },
        {
          "output_type": "stream",
          "name": "stdout",
          "text": [
            "train Loss: 0.1420 Acc: 0.954733\n"
          ]
        },
        {
          "output_type": "stream",
          "name": "stderr",
          "text": [
            "100%|██████████| 5/5 [00:01<00:00,  2.69it/s]\n"
          ]
        },
        {
          "output_type": "stream",
          "name": "stdout",
          "text": [
            "val Loss: 0.1293 Acc: 0.954248\n",
            "Epoch 4/20\n",
            "-------\n"
          ]
        },
        {
          "output_type": "stream",
          "name": "stderr",
          "text": [
            "100%|██████████| 8/8 [00:04<00:00,  1.63it/s]\n"
          ]
        },
        {
          "output_type": "stream",
          "name": "stdout",
          "text": [
            "train Loss: 0.0758 Acc: 0.971193\n"
          ]
        },
        {
          "output_type": "stream",
          "name": "stderr",
          "text": [
            "100%|██████████| 5/5 [00:01<00:00,  2.73it/s]\n"
          ]
        },
        {
          "output_type": "stream",
          "name": "stdout",
          "text": [
            "val Loss: 0.1173 Acc: 0.960784\n",
            "Epoch 5/20\n",
            "-------\n"
          ]
        },
        {
          "output_type": "stream",
          "name": "stderr",
          "text": [
            "100%|██████████| 8/8 [00:04<00:00,  1.62it/s]\n"
          ]
        },
        {
          "output_type": "stream",
          "name": "stdout",
          "text": [
            "train Loss: 0.0760 Acc: 0.979424\n"
          ]
        },
        {
          "output_type": "stream",
          "name": "stderr",
          "text": [
            "100%|██████████| 5/5 [00:01<00:00,  2.73it/s]\n"
          ]
        },
        {
          "output_type": "stream",
          "name": "stdout",
          "text": [
            "val Loss: 0.1054 Acc: 0.960784\n",
            "Epoch 6/20\n",
            "-------\n"
          ]
        },
        {
          "output_type": "stream",
          "name": "stderr",
          "text": [
            "100%|██████████| 8/8 [00:04<00:00,  1.62it/s]\n"
          ]
        },
        {
          "output_type": "stream",
          "name": "stdout",
          "text": [
            "train Loss: 0.0509 Acc: 0.979424\n"
          ]
        },
        {
          "output_type": "stream",
          "name": "stderr",
          "text": [
            "100%|██████████| 5/5 [00:01<00:00,  2.71it/s]\n"
          ]
        },
        {
          "output_type": "stream",
          "name": "stdout",
          "text": [
            "val Loss: 0.0994 Acc: 0.960784\n",
            "Epoch 7/20\n",
            "-------\n"
          ]
        },
        {
          "output_type": "stream",
          "name": "stderr",
          "text": [
            "100%|██████████| 8/8 [00:04<00:00,  1.61it/s]\n"
          ]
        },
        {
          "output_type": "stream",
          "name": "stdout",
          "text": [
            "train Loss: 0.0454 Acc: 0.979424\n"
          ]
        },
        {
          "output_type": "stream",
          "name": "stderr",
          "text": [
            "100%|██████████| 5/5 [00:01<00:00,  2.71it/s]\n"
          ]
        },
        {
          "output_type": "stream",
          "name": "stdout",
          "text": [
            "val Loss: 0.1015 Acc: 0.960784\n",
            "Epoch 8/20\n",
            "-------\n"
          ]
        },
        {
          "output_type": "stream",
          "name": "stderr",
          "text": [
            "100%|██████████| 8/8 [00:04<00:00,  1.61it/s]\n"
          ]
        },
        {
          "output_type": "stream",
          "name": "stdout",
          "text": [
            "train Loss: 0.0418 Acc: 0.987654\n"
          ]
        },
        {
          "output_type": "stream",
          "name": "stderr",
          "text": [
            "100%|██████████| 5/5 [00:01<00:00,  2.73it/s]\n"
          ]
        },
        {
          "output_type": "stream",
          "name": "stdout",
          "text": [
            "val Loss: 0.1012 Acc: 0.954248\n",
            "Epoch 9/20\n",
            "-------\n"
          ]
        },
        {
          "output_type": "stream",
          "name": "stderr",
          "text": [
            "100%|██████████| 8/8 [00:04<00:00,  1.61it/s]\n"
          ]
        },
        {
          "output_type": "stream",
          "name": "stdout",
          "text": [
            "train Loss: 0.0456 Acc: 0.991770\n"
          ]
        },
        {
          "output_type": "stream",
          "name": "stderr",
          "text": [
            "100%|██████████| 5/5 [00:01<00:00,  2.74it/s]\n"
          ]
        },
        {
          "output_type": "stream",
          "name": "stdout",
          "text": [
            "val Loss: 0.0974 Acc: 0.967320\n",
            "Epoch 10/20\n",
            "-------\n"
          ]
        },
        {
          "output_type": "stream",
          "name": "stderr",
          "text": [
            "100%|██████████| 8/8 [00:04<00:00,  1.61it/s]\n"
          ]
        },
        {
          "output_type": "stream",
          "name": "stdout",
          "text": [
            "train Loss: 0.0257 Acc: 0.983539\n"
          ]
        },
        {
          "output_type": "stream",
          "name": "stderr",
          "text": [
            "100%|██████████| 5/5 [00:01<00:00,  2.65it/s]\n"
          ]
        },
        {
          "output_type": "stream",
          "name": "stdout",
          "text": [
            "val Loss: 0.0968 Acc: 0.967320\n",
            "Epoch 11/20\n",
            "-------\n"
          ]
        },
        {
          "output_type": "stream",
          "name": "stderr",
          "text": [
            "100%|██████████| 8/8 [00:05<00:00,  1.59it/s]\n"
          ]
        },
        {
          "output_type": "stream",
          "name": "stdout",
          "text": [
            "train Loss: 0.0332 Acc: 0.987654\n"
          ]
        },
        {
          "output_type": "stream",
          "name": "stderr",
          "text": [
            "100%|██████████| 5/5 [00:01<00:00,  2.70it/s]\n"
          ]
        },
        {
          "output_type": "stream",
          "name": "stdout",
          "text": [
            "val Loss: 0.0983 Acc: 0.960784\n",
            "Epoch 12/20\n",
            "-------\n"
          ]
        },
        {
          "output_type": "stream",
          "name": "stderr",
          "text": [
            "100%|██████████| 8/8 [00:05<00:00,  1.59it/s]\n"
          ]
        },
        {
          "output_type": "stream",
          "name": "stdout",
          "text": [
            "train Loss: 0.0285 Acc: 0.983539\n"
          ]
        },
        {
          "output_type": "stream",
          "name": "stderr",
          "text": [
            "100%|██████████| 5/5 [00:01<00:00,  2.64it/s]\n"
          ]
        },
        {
          "output_type": "stream",
          "name": "stdout",
          "text": [
            "val Loss: 0.1023 Acc: 0.960784\n",
            "Epoch 13/20\n",
            "-------\n"
          ]
        },
        {
          "output_type": "stream",
          "name": "stderr",
          "text": [
            "100%|██████████| 8/8 [00:04<00:00,  1.60it/s]\n"
          ]
        },
        {
          "output_type": "stream",
          "name": "stdout",
          "text": [
            "train Loss: 0.0165 Acc: 1.000000\n"
          ]
        },
        {
          "output_type": "stream",
          "name": "stderr",
          "text": [
            "100%|██████████| 5/5 [00:01<00:00,  2.71it/s]\n"
          ]
        },
        {
          "output_type": "stream",
          "name": "stdout",
          "text": [
            "val Loss: 0.1020 Acc: 0.967320\n",
            "Epoch 14/20\n",
            "-------\n"
          ]
        },
        {
          "output_type": "stream",
          "name": "stderr",
          "text": [
            "100%|██████████| 8/8 [00:05<00:00,  1.59it/s]\n"
          ]
        },
        {
          "output_type": "stream",
          "name": "stdout",
          "text": [
            "train Loss: 0.0209 Acc: 0.995885\n"
          ]
        },
        {
          "output_type": "stream",
          "name": "stderr",
          "text": [
            "100%|██████████| 5/5 [00:01<00:00,  2.71it/s]\n"
          ]
        },
        {
          "output_type": "stream",
          "name": "stdout",
          "text": [
            "val Loss: 0.1032 Acc: 0.954248\n",
            "Epoch 15/20\n",
            "-------\n"
          ]
        },
        {
          "output_type": "stream",
          "name": "stderr",
          "text": [
            "100%|██████████| 8/8 [00:05<00:00,  1.59it/s]\n"
          ]
        },
        {
          "output_type": "stream",
          "name": "stdout",
          "text": [
            "train Loss: 0.0202 Acc: 0.995885\n"
          ]
        },
        {
          "output_type": "stream",
          "name": "stderr",
          "text": [
            "100%|██████████| 5/5 [00:01<00:00,  2.67it/s]\n"
          ]
        },
        {
          "output_type": "stream",
          "name": "stdout",
          "text": [
            "val Loss: 0.1039 Acc: 0.960784\n",
            "Epoch 16/20\n",
            "-------\n"
          ]
        },
        {
          "output_type": "stream",
          "name": "stderr",
          "text": [
            "100%|██████████| 8/8 [00:05<00:00,  1.60it/s]\n"
          ]
        },
        {
          "output_type": "stream",
          "name": "stdout",
          "text": [
            "train Loss: 0.0271 Acc: 0.991770\n"
          ]
        },
        {
          "output_type": "stream",
          "name": "stderr",
          "text": [
            "100%|██████████| 5/5 [00:01<00:00,  2.71it/s]\n"
          ]
        },
        {
          "output_type": "stream",
          "name": "stdout",
          "text": [
            "val Loss: 0.1055 Acc: 0.960784\n",
            "Epoch 17/20\n",
            "-------\n"
          ]
        },
        {
          "output_type": "stream",
          "name": "stderr",
          "text": [
            "100%|██████████| 8/8 [00:05<00:00,  1.59it/s]\n"
          ]
        },
        {
          "output_type": "stream",
          "name": "stdout",
          "text": [
            "train Loss: 0.0080 Acc: 1.000000\n"
          ]
        },
        {
          "output_type": "stream",
          "name": "stderr",
          "text": [
            "100%|██████████| 5/5 [00:01<00:00,  2.70it/s]\n"
          ]
        },
        {
          "output_type": "stream",
          "name": "stdout",
          "text": [
            "val Loss: 0.1092 Acc: 0.960784\n",
            "Epoch 18/20\n",
            "-------\n"
          ]
        },
        {
          "output_type": "stream",
          "name": "stderr",
          "text": [
            "100%|██████████| 8/8 [00:05<00:00,  1.59it/s]\n"
          ]
        },
        {
          "output_type": "stream",
          "name": "stdout",
          "text": [
            "train Loss: 0.0146 Acc: 0.995885\n"
          ]
        },
        {
          "output_type": "stream",
          "name": "stderr",
          "text": [
            "100%|██████████| 5/5 [00:01<00:00,  2.71it/s]\n"
          ]
        },
        {
          "output_type": "stream",
          "name": "stdout",
          "text": [
            "val Loss: 0.1107 Acc: 0.960784\n",
            "Epoch 19/20\n",
            "-------\n"
          ]
        },
        {
          "output_type": "stream",
          "name": "stderr",
          "text": [
            "100%|██████████| 8/8 [00:05<00:00,  1.59it/s]\n"
          ]
        },
        {
          "output_type": "stream",
          "name": "stdout",
          "text": [
            "train Loss: 0.0257 Acc: 0.995885\n"
          ]
        },
        {
          "output_type": "stream",
          "name": "stderr",
          "text": [
            "100%|██████████| 5/5 [00:01<00:00,  2.69it/s]\n"
          ]
        },
        {
          "output_type": "stream",
          "name": "stdout",
          "text": [
            "val Loss: 0.1119 Acc: 0.960784\n",
            "Epoch 20/20\n",
            "-------\n"
          ]
        },
        {
          "output_type": "stream",
          "name": "stderr",
          "text": [
            "100%|██████████| 8/8 [00:05<00:00,  1.60it/s]\n"
          ]
        },
        {
          "output_type": "stream",
          "name": "stdout",
          "text": [
            "train Loss: 0.0106 Acc: 1.000000\n"
          ]
        },
        {
          "output_type": "stream",
          "name": "stderr",
          "text": [
            "100%|██████████| 5/5 [00:01<00:00,  2.74it/s]"
          ]
        },
        {
          "output_type": "stream",
          "name": "stdout",
          "text": [
            "val Loss: 0.1140 Acc: 0.954248\n"
          ]
        },
        {
          "output_type": "stream",
          "name": "stderr",
          "text": [
            "\n"
          ]
        }
      ]
    },
    {
      "cell_type": "code",
      "source": [
        "save_path=\"./weights_fine_tuning2.pth\"\n",
        "torch.save(net.state_dict(),save_path)"
      ],
      "metadata": {
        "id": "gp3X6DZb3jBj"
      },
      "execution_count": 63,
      "outputs": []
    },
    {
      "cell_type": "code",
      "source": [
        "load_path=\"./weights_fine_tuning2.pth\"\n",
        "load_weights=torch.load(load_path, map_location={'cuda:0':'cpu'})\n",
        "net.load_state_dict(load_weights)"
      ],
      "metadata": {
        "colab": {
          "base_uri": "https://localhost:8080/"
        },
        "id": "KWEDZ16Q8hF8",
        "outputId": "ab455536-d221-4e2b-ea80-e3df85c85a17"
      },
      "execution_count": 64,
      "outputs": [
        {
          "output_type": "execute_result",
          "data": {
            "text/plain": [
              "<All keys matched successfully>"
            ]
          },
          "metadata": {},
          "execution_count": 64
        }
      ]
    },
    {
      "cell_type": "code",
      "source": [],
      "metadata": {
        "id": "vjKTyG4jAihy"
      },
      "execution_count": null,
      "outputs": []
    }
  ]
}